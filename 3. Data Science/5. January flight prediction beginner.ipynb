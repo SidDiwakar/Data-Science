{
 "cells": [
  {
   "cell_type": "markdown",
   "metadata": {},
   "source": [
    "# January flight prediction beginner"
   ]
  },
  {
   "cell_type": "code",
   "execution_count": 37,
   "metadata": {},
   "outputs": [
    {
     "data": {
      "text/plain": [
       "sys.version_info(major=3, minor=6, micro=3, releaselevel='final', serial=0)"
      ]
     },
     "execution_count": 37,
     "metadata": {},
     "output_type": "execute_result"
    }
   ],
   "source": [
    "# IMPORTING LIBRARIES\n",
    "# to run the program in jupyter notebook shortcut key : Shift+Enter\n",
    "\n",
    "import pandas as pd   # mostly we will deal with 'cvs' file type.\n",
    "\n",
    "pd.set_option('display.max_rows', 500)\n",
    "pd.set_option('display.max_columns', 100)\n",
    "\n",
    "import numpy as np\n",
    "from itertools import product\n",
    "from sklearn.preprocessing import LabelEncoder\n",
    "\n",
    "import seaborn as sns\n",
    "import matplotlib.pyplot as plt\n",
    "%matplotlib inline\n",
    "\n",
    "from xgboost import XGBRegressor\n",
    "from xgboost import plot_importance\n",
    "\n",
    "def plot_features(booster, figsize) :\n",
    "    fig, ax = plt.subplots(1, 1, figsize = figsize)\n",
    "    return plot_importance(booster = booster, ax = ax)\n",
    "\n",
    "import plotly.graph_objects as go\n",
    "from plotly.subplots import make_subplots\n",
    "import plotly.express as px\n",
    "\n",
    "import time\n",
    "import sys\n",
    "import gc\n",
    "import pickle\n",
    "\n",
    "sys.version_info\n"
   ]
  },
  {
   "cell_type": "markdown",
   "metadata": {
    "collapsed": true
   },
   "source": [
    "# LOADING DATASET"
   ]
  },
  {
   "cell_type": "code",
   "execution_count": 38,
   "metadata": {
    "collapsed": true
   },
   "outputs": [],
   "source": [
    "jan_2019_ontime = pd.read_csv(\"D:\\\\Data Science\\\\Dataset\\\\599747_1080724_bundle_archive\\\\Jan_2019_ontime.csv\")\n",
    "jan_2020_ontime = pd.read_csv(\"D:\\\\Data Science\\\\Dataset\\\\599747_1080724_bundle_archive\\\\Jan_2020_ontime.csv\")\n"
   ]
  },
  {
   "cell_type": "code",
   "execution_count": 39,
   "metadata": {},
   "outputs": [
    {
     "data": {
      "text/html": [
       "<div>\n",
       "<style scoped>\n",
       "    .dataframe tbody tr th:only-of-type {\n",
       "        vertical-align: middle;\n",
       "    }\n",
       "\n",
       "    .dataframe tbody tr th {\n",
       "        vertical-align: top;\n",
       "    }\n",
       "\n",
       "    .dataframe thead th {\n",
       "        text-align: right;\n",
       "    }\n",
       "</style>\n",
       "<table border=\"1\" class=\"dataframe\">\n",
       "  <thead>\n",
       "    <tr style=\"text-align: right;\">\n",
       "      <th></th>\n",
       "      <th>DAY_OF_MONTH</th>\n",
       "      <th>DAY_OF_WEEK</th>\n",
       "      <th>OP_UNIQUE_CARRIER</th>\n",
       "      <th>OP_CARRIER_AIRLINE_ID</th>\n",
       "      <th>OP_CARRIER</th>\n",
       "      <th>TAIL_NUM</th>\n",
       "      <th>OP_CARRIER_FL_NUM</th>\n",
       "      <th>ORIGIN_AIRPORT_ID</th>\n",
       "      <th>ORIGIN_AIRPORT_SEQ_ID</th>\n",
       "      <th>ORIGIN</th>\n",
       "      <th>DEST_AIRPORT_ID</th>\n",
       "      <th>DEST_AIRPORT_SEQ_ID</th>\n",
       "      <th>DEST</th>\n",
       "      <th>DEP_TIME</th>\n",
       "      <th>DEP_DEL15</th>\n",
       "      <th>DEP_TIME_BLK</th>\n",
       "      <th>ARR_TIME</th>\n",
       "      <th>ARR_DEL15</th>\n",
       "      <th>CANCELLED</th>\n",
       "      <th>DIVERTED</th>\n",
       "      <th>DISTANCE</th>\n",
       "      <th>Unnamed: 21</th>\n",
       "    </tr>\n",
       "  </thead>\n",
       "  <tbody>\n",
       "    <tr>\n",
       "      <th>583980</th>\n",
       "      <td>31</td>\n",
       "      <td>4</td>\n",
       "      <td>UA</td>\n",
       "      <td>19977</td>\n",
       "      <td>UA</td>\n",
       "      <td>N776UA</td>\n",
       "      <td>200</td>\n",
       "      <td>12016</td>\n",
       "      <td>1201602</td>\n",
       "      <td>GUM</td>\n",
       "      <td>12173</td>\n",
       "      <td>1217305</td>\n",
       "      <td>HNL</td>\n",
       "      <td>749.0</td>\n",
       "      <td>0.0</td>\n",
       "      <td>0700-0759</td>\n",
       "      <td>1832.0</td>\n",
       "      <td>0.0</td>\n",
       "      <td>0.0</td>\n",
       "      <td>0.0</td>\n",
       "      <td>3801.0</td>\n",
       "      <td>NaN</td>\n",
       "    </tr>\n",
       "    <tr>\n",
       "      <th>583981</th>\n",
       "      <td>31</td>\n",
       "      <td>4</td>\n",
       "      <td>UA</td>\n",
       "      <td>19977</td>\n",
       "      <td>UA</td>\n",
       "      <td>N36280</td>\n",
       "      <td>174</td>\n",
       "      <td>12016</td>\n",
       "      <td>1201602</td>\n",
       "      <td>GUM</td>\n",
       "      <td>14955</td>\n",
       "      <td>1495503</td>\n",
       "      <td>SPN</td>\n",
       "      <td>717.0</td>\n",
       "      <td>0.0</td>\n",
       "      <td>0700-0759</td>\n",
       "      <td>759.0</td>\n",
       "      <td>0.0</td>\n",
       "      <td>0.0</td>\n",
       "      <td>0.0</td>\n",
       "      <td>129.0</td>\n",
       "      <td>NaN</td>\n",
       "    </tr>\n",
       "    <tr>\n",
       "      <th>583982</th>\n",
       "      <td>31</td>\n",
       "      <td>4</td>\n",
       "      <td>UA</td>\n",
       "      <td>19977</td>\n",
       "      <td>UA</td>\n",
       "      <td>N36280</td>\n",
       "      <td>117</td>\n",
       "      <td>14955</td>\n",
       "      <td>1495503</td>\n",
       "      <td>SPN</td>\n",
       "      <td>12016</td>\n",
       "      <td>1201602</td>\n",
       "      <td>GUM</td>\n",
       "      <td>857.0</td>\n",
       "      <td>0.0</td>\n",
       "      <td>0900-0959</td>\n",
       "      <td>933.0</td>\n",
       "      <td>0.0</td>\n",
       "      <td>0.0</td>\n",
       "      <td>0.0</td>\n",
       "      <td>129.0</td>\n",
       "      <td>NaN</td>\n",
       "    </tr>\n",
       "    <tr>\n",
       "      <th>583983</th>\n",
       "      <td>31</td>\n",
       "      <td>4</td>\n",
       "      <td>UA</td>\n",
       "      <td>19977</td>\n",
       "      <td>UA</td>\n",
       "      <td>N39726</td>\n",
       "      <td>105</td>\n",
       "      <td>14955</td>\n",
       "      <td>1495503</td>\n",
       "      <td>SPN</td>\n",
       "      <td>12016</td>\n",
       "      <td>1201602</td>\n",
       "      <td>GUM</td>\n",
       "      <td>1820.0</td>\n",
       "      <td>0.0</td>\n",
       "      <td>1800-1859</td>\n",
       "      <td>1854.0</td>\n",
       "      <td>0.0</td>\n",
       "      <td>0.0</td>\n",
       "      <td>0.0</td>\n",
       "      <td>129.0</td>\n",
       "      <td>NaN</td>\n",
       "    </tr>\n",
       "    <tr>\n",
       "      <th>583984</th>\n",
       "      <td>31</td>\n",
       "      <td>4</td>\n",
       "      <td>UA</td>\n",
       "      <td>19977</td>\n",
       "      <td>UA</td>\n",
       "      <td>N39726</td>\n",
       "      <td>104</td>\n",
       "      <td>12016</td>\n",
       "      <td>1201602</td>\n",
       "      <td>GUM</td>\n",
       "      <td>14955</td>\n",
       "      <td>1495503</td>\n",
       "      <td>SPN</td>\n",
       "      <td>1636.0</td>\n",
       "      <td>0.0</td>\n",
       "      <td>1600-1659</td>\n",
       "      <td>1719.0</td>\n",
       "      <td>0.0</td>\n",
       "      <td>0.0</td>\n",
       "      <td>0.0</td>\n",
       "      <td>129.0</td>\n",
       "      <td>NaN</td>\n",
       "    </tr>\n",
       "  </tbody>\n",
       "</table>\n",
       "</div>"
      ],
      "text/plain": [
       "        DAY_OF_MONTH  DAY_OF_WEEK OP_UNIQUE_CARRIER  OP_CARRIER_AIRLINE_ID  \\\n",
       "583980            31            4                UA                  19977   \n",
       "583981            31            4                UA                  19977   \n",
       "583982            31            4                UA                  19977   \n",
       "583983            31            4                UA                  19977   \n",
       "583984            31            4                UA                  19977   \n",
       "\n",
       "       OP_CARRIER TAIL_NUM  OP_CARRIER_FL_NUM  ORIGIN_AIRPORT_ID  \\\n",
       "583980         UA   N776UA                200              12016   \n",
       "583981         UA   N36280                174              12016   \n",
       "583982         UA   N36280                117              14955   \n",
       "583983         UA   N39726                105              14955   \n",
       "583984         UA   N39726                104              12016   \n",
       "\n",
       "        ORIGIN_AIRPORT_SEQ_ID ORIGIN  DEST_AIRPORT_ID  DEST_AIRPORT_SEQ_ID  \\\n",
       "583980                1201602    GUM            12173              1217305   \n",
       "583981                1201602    GUM            14955              1495503   \n",
       "583982                1495503    SPN            12016              1201602   \n",
       "583983                1495503    SPN            12016              1201602   \n",
       "583984                1201602    GUM            14955              1495503   \n",
       "\n",
       "       DEST  DEP_TIME  DEP_DEL15 DEP_TIME_BLK  ARR_TIME  ARR_DEL15  CANCELLED  \\\n",
       "583980  HNL     749.0        0.0    0700-0759    1832.0        0.0        0.0   \n",
       "583981  SPN     717.0        0.0    0700-0759     759.0        0.0        0.0   \n",
       "583982  GUM     857.0        0.0    0900-0959     933.0        0.0        0.0   \n",
       "583983  GUM    1820.0        0.0    1800-1859    1854.0        0.0        0.0   \n",
       "583984  SPN    1636.0        0.0    1600-1659    1719.0        0.0        0.0   \n",
       "\n",
       "        DIVERTED  DISTANCE  Unnamed: 21  \n",
       "583980       0.0    3801.0          NaN  \n",
       "583981       0.0     129.0          NaN  \n",
       "583982       0.0     129.0          NaN  \n",
       "583983       0.0     129.0          NaN  \n",
       "583984       0.0     129.0          NaN  "
      ]
     },
     "execution_count": 39,
     "metadata": {},
     "output_type": "execute_result"
    }
   ],
   "source": [
    "jan_2019_ontime.tail()"
   ]
  },
  {
   "cell_type": "code",
   "execution_count": 40,
   "metadata": {},
   "outputs": [],
   "source": [
    "#DEP_TIME_BLK contains an invalid label \n",
    "#fix it to 0500-0559\n",
    "\n",
    "jan_2019_ontime.loc[jan_2019_ontime['DEP_TIME_BLK'] == '0001-0559' , 'DEP_TIME_BLK' ] = '0500-0559'"
   ]
  },
  {
   "cell_type": "markdown",
   "metadata": {},
   "source": [
    "# DATA VISUALISATION"
   ]
  },
  {
   "cell_type": "code",
   "execution_count": 41,
   "metadata": {},
   "outputs": [
    {
     "data": {
      "application/vnd.plotly.v1+json": {
       "config": {
        "plotlyServerURL": "https://plot.ly"
       },
       "data": [
        {
         "domain": {
          "x": [
           0,
           0.45
          ],
          "y": [
           0,
           1
          ]
         },
         "labels": [
          "Delayed (<15 minutes)",
          "Delayed (>15 minutes)"
         ],
         "marker": {
          "colors": [
           "blue",
           "red"
          ],
          "line": {
           "color": "#000000",
           "width": 2
          }
         },
         "pull": [
          0,
          0.1
         ],
         "textfont": {
          "size": 14
         },
         "textinfo": "value",
         "type": "pie",
         "values": [
          468703,
          98927
         ]
        },
        {
         "domain": {
          "x": [
           0.55,
           1
          ],
          "y": [
           0,
           1
          ]
         },
         "labels": [
          "Delayed (<15 minutes)",
          "Delayed (>15 minutes)"
         ],
         "marker": {
          "colors": [
           "blue",
           "red"
          ],
          "line": {
           "color": "#000000",
           "width": 2
          }
         },
         "pull": [
          0,
          0.1
         ],
         "textfont": {
          "size": 14
         },
         "textinfo": "value",
         "type": "pie",
         "values": [
          460741,
          460741
         ]
        }
       ],
       "layout": {
        "annotations": [
         {
          "font": {
           "size": 16
          },
          "showarrow": false,
          "text": "Departures",
          "x": 0.225,
          "xanchor": "center",
          "xref": "paper",
          "y": 1,
          "yanchor": "bottom",
          "yref": "paper"
         },
         {
          "font": {
           "size": 16
          },
          "showarrow": false,
          "text": "Arrivals",
          "x": 0.775,
          "xanchor": "center",
          "xref": "paper",
          "y": 1,
          "yanchor": "bottom",
          "yref": "paper"
         }
        ],
        "legend": {
         "title": {
          "text": "<b>               Flights</b>"
         },
         "x": 0.45,
         "y": 0.6
        },
        "template": {
         "data": {
          "bar": [
           {
            "error_x": {
             "color": "#2a3f5f"
            },
            "error_y": {
             "color": "#2a3f5f"
            },
            "marker": {
             "line": {
              "color": "#E5ECF6",
              "width": 0.5
             }
            },
            "type": "bar"
           }
          ],
          "barpolar": [
           {
            "marker": {
             "line": {
              "color": "#E5ECF6",
              "width": 0.5
             }
            },
            "type": "barpolar"
           }
          ],
          "carpet": [
           {
            "aaxis": {
             "endlinecolor": "#2a3f5f",
             "gridcolor": "white",
             "linecolor": "white",
             "minorgridcolor": "white",
             "startlinecolor": "#2a3f5f"
            },
            "baxis": {
             "endlinecolor": "#2a3f5f",
             "gridcolor": "white",
             "linecolor": "white",
             "minorgridcolor": "white",
             "startlinecolor": "#2a3f5f"
            },
            "type": "carpet"
           }
          ],
          "choropleth": [
           {
            "colorbar": {
             "outlinewidth": 0,
             "ticks": ""
            },
            "type": "choropleth"
           }
          ],
          "contour": [
           {
            "colorbar": {
             "outlinewidth": 0,
             "ticks": ""
            },
            "colorscale": [
             [
              0,
              "#0d0887"
             ],
             [
              0.1111111111111111,
              "#46039f"
             ],
             [
              0.2222222222222222,
              "#7201a8"
             ],
             [
              0.3333333333333333,
              "#9c179e"
             ],
             [
              0.4444444444444444,
              "#bd3786"
             ],
             [
              0.5555555555555556,
              "#d8576b"
             ],
             [
              0.6666666666666666,
              "#ed7953"
             ],
             [
              0.7777777777777778,
              "#fb9f3a"
             ],
             [
              0.8888888888888888,
              "#fdca26"
             ],
             [
              1,
              "#f0f921"
             ]
            ],
            "type": "contour"
           }
          ],
          "contourcarpet": [
           {
            "colorbar": {
             "outlinewidth": 0,
             "ticks": ""
            },
            "type": "contourcarpet"
           }
          ],
          "heatmap": [
           {
            "colorbar": {
             "outlinewidth": 0,
             "ticks": ""
            },
            "colorscale": [
             [
              0,
              "#0d0887"
             ],
             [
              0.1111111111111111,
              "#46039f"
             ],
             [
              0.2222222222222222,
              "#7201a8"
             ],
             [
              0.3333333333333333,
              "#9c179e"
             ],
             [
              0.4444444444444444,
              "#bd3786"
             ],
             [
              0.5555555555555556,
              "#d8576b"
             ],
             [
              0.6666666666666666,
              "#ed7953"
             ],
             [
              0.7777777777777778,
              "#fb9f3a"
             ],
             [
              0.8888888888888888,
              "#fdca26"
             ],
             [
              1,
              "#f0f921"
             ]
            ],
            "type": "heatmap"
           }
          ],
          "heatmapgl": [
           {
            "colorbar": {
             "outlinewidth": 0,
             "ticks": ""
            },
            "colorscale": [
             [
              0,
              "#0d0887"
             ],
             [
              0.1111111111111111,
              "#46039f"
             ],
             [
              0.2222222222222222,
              "#7201a8"
             ],
             [
              0.3333333333333333,
              "#9c179e"
             ],
             [
              0.4444444444444444,
              "#bd3786"
             ],
             [
              0.5555555555555556,
              "#d8576b"
             ],
             [
              0.6666666666666666,
              "#ed7953"
             ],
             [
              0.7777777777777778,
              "#fb9f3a"
             ],
             [
              0.8888888888888888,
              "#fdca26"
             ],
             [
              1,
              "#f0f921"
             ]
            ],
            "type": "heatmapgl"
           }
          ],
          "histogram": [
           {
            "marker": {
             "colorbar": {
              "outlinewidth": 0,
              "ticks": ""
             }
            },
            "type": "histogram"
           }
          ],
          "histogram2d": [
           {
            "colorbar": {
             "outlinewidth": 0,
             "ticks": ""
            },
            "colorscale": [
             [
              0,
              "#0d0887"
             ],
             [
              0.1111111111111111,
              "#46039f"
             ],
             [
              0.2222222222222222,
              "#7201a8"
             ],
             [
              0.3333333333333333,
              "#9c179e"
             ],
             [
              0.4444444444444444,
              "#bd3786"
             ],
             [
              0.5555555555555556,
              "#d8576b"
             ],
             [
              0.6666666666666666,
              "#ed7953"
             ],
             [
              0.7777777777777778,
              "#fb9f3a"
             ],
             [
              0.8888888888888888,
              "#fdca26"
             ],
             [
              1,
              "#f0f921"
             ]
            ],
            "type": "histogram2d"
           }
          ],
          "histogram2dcontour": [
           {
            "colorbar": {
             "outlinewidth": 0,
             "ticks": ""
            },
            "colorscale": [
             [
              0,
              "#0d0887"
             ],
             [
              0.1111111111111111,
              "#46039f"
             ],
             [
              0.2222222222222222,
              "#7201a8"
             ],
             [
              0.3333333333333333,
              "#9c179e"
             ],
             [
              0.4444444444444444,
              "#bd3786"
             ],
             [
              0.5555555555555556,
              "#d8576b"
             ],
             [
              0.6666666666666666,
              "#ed7953"
             ],
             [
              0.7777777777777778,
              "#fb9f3a"
             ],
             [
              0.8888888888888888,
              "#fdca26"
             ],
             [
              1,
              "#f0f921"
             ]
            ],
            "type": "histogram2dcontour"
           }
          ],
          "mesh3d": [
           {
            "colorbar": {
             "outlinewidth": 0,
             "ticks": ""
            },
            "type": "mesh3d"
           }
          ],
          "parcoords": [
           {
            "line": {
             "colorbar": {
              "outlinewidth": 0,
              "ticks": ""
             }
            },
            "type": "parcoords"
           }
          ],
          "pie": [
           {
            "automargin": true,
            "type": "pie"
           }
          ],
          "scatter": [
           {
            "marker": {
             "colorbar": {
              "outlinewidth": 0,
              "ticks": ""
             }
            },
            "type": "scatter"
           }
          ],
          "scatter3d": [
           {
            "line": {
             "colorbar": {
              "outlinewidth": 0,
              "ticks": ""
             }
            },
            "marker": {
             "colorbar": {
              "outlinewidth": 0,
              "ticks": ""
             }
            },
            "type": "scatter3d"
           }
          ],
          "scattercarpet": [
           {
            "marker": {
             "colorbar": {
              "outlinewidth": 0,
              "ticks": ""
             }
            },
            "type": "scattercarpet"
           }
          ],
          "scattergeo": [
           {
            "marker": {
             "colorbar": {
              "outlinewidth": 0,
              "ticks": ""
             }
            },
            "type": "scattergeo"
           }
          ],
          "scattergl": [
           {
            "marker": {
             "colorbar": {
              "outlinewidth": 0,
              "ticks": ""
             }
            },
            "type": "scattergl"
           }
          ],
          "scattermapbox": [
           {
            "marker": {
             "colorbar": {
              "outlinewidth": 0,
              "ticks": ""
             }
            },
            "type": "scattermapbox"
           }
          ],
          "scatterpolar": [
           {
            "marker": {
             "colorbar": {
              "outlinewidth": 0,
              "ticks": ""
             }
            },
            "type": "scatterpolar"
           }
          ],
          "scatterpolargl": [
           {
            "marker": {
             "colorbar": {
              "outlinewidth": 0,
              "ticks": ""
             }
            },
            "type": "scatterpolargl"
           }
          ],
          "scatterternary": [
           {
            "marker": {
             "colorbar": {
              "outlinewidth": 0,
              "ticks": ""
             }
            },
            "type": "scatterternary"
           }
          ],
          "surface": [
           {
            "colorbar": {
             "outlinewidth": 0,
             "ticks": ""
            },
            "colorscale": [
             [
              0,
              "#0d0887"
             ],
             [
              0.1111111111111111,
              "#46039f"
             ],
             [
              0.2222222222222222,
              "#7201a8"
             ],
             [
              0.3333333333333333,
              "#9c179e"
             ],
             [
              0.4444444444444444,
              "#bd3786"
             ],
             [
              0.5555555555555556,
              "#d8576b"
             ],
             [
              0.6666666666666666,
              "#ed7953"
             ],
             [
              0.7777777777777778,
              "#fb9f3a"
             ],
             [
              0.8888888888888888,
              "#fdca26"
             ],
             [
              1,
              "#f0f921"
             ]
            ],
            "type": "surface"
           }
          ],
          "table": [
           {
            "cells": {
             "fill": {
              "color": "#EBF0F8"
             },
             "line": {
              "color": "white"
             }
            },
            "header": {
             "fill": {
              "color": "#C8D4E3"
             },
             "line": {
              "color": "white"
             }
            },
            "type": "table"
           }
          ]
         },
         "layout": {
          "annotationdefaults": {
           "arrowcolor": "#2a3f5f",
           "arrowhead": 0,
           "arrowwidth": 1
          },
          "coloraxis": {
           "colorbar": {
            "outlinewidth": 0,
            "ticks": ""
           }
          },
          "colorscale": {
           "diverging": [
            [
             0,
             "#8e0152"
            ],
            [
             0.1,
             "#c51b7d"
            ],
            [
             0.2,
             "#de77ae"
            ],
            [
             0.3,
             "#f1b6da"
            ],
            [
             0.4,
             "#fde0ef"
            ],
            [
             0.5,
             "#f7f7f7"
            ],
            [
             0.6,
             "#e6f5d0"
            ],
            [
             0.7,
             "#b8e186"
            ],
            [
             0.8,
             "#7fbc41"
            ],
            [
             0.9,
             "#4d9221"
            ],
            [
             1,
             "#276419"
            ]
           ],
           "sequential": [
            [
             0,
             "#0d0887"
            ],
            [
             0.1111111111111111,
             "#46039f"
            ],
            [
             0.2222222222222222,
             "#7201a8"
            ],
            [
             0.3333333333333333,
             "#9c179e"
            ],
            [
             0.4444444444444444,
             "#bd3786"
            ],
            [
             0.5555555555555556,
             "#d8576b"
            ],
            [
             0.6666666666666666,
             "#ed7953"
            ],
            [
             0.7777777777777778,
             "#fb9f3a"
            ],
            [
             0.8888888888888888,
             "#fdca26"
            ],
            [
             1,
             "#f0f921"
            ]
           ],
           "sequentialminus": [
            [
             0,
             "#0d0887"
            ],
            [
             0.1111111111111111,
             "#46039f"
            ],
            [
             0.2222222222222222,
             "#7201a8"
            ],
            [
             0.3333333333333333,
             "#9c179e"
            ],
            [
             0.4444444444444444,
             "#bd3786"
            ],
            [
             0.5555555555555556,
             "#d8576b"
            ],
            [
             0.6666666666666666,
             "#ed7953"
            ],
            [
             0.7777777777777778,
             "#fb9f3a"
            ],
            [
             0.8888888888888888,
             "#fdca26"
            ],
            [
             1,
             "#f0f921"
            ]
           ]
          },
          "colorway": [
           "#636efa",
           "#EF553B",
           "#00cc96",
           "#ab63fa",
           "#FFA15A",
           "#19d3f3",
           "#FF6692",
           "#B6E880",
           "#FF97FF",
           "#FECB52"
          ],
          "font": {
           "color": "#2a3f5f"
          },
          "geo": {
           "bgcolor": "white",
           "lakecolor": "white",
           "landcolor": "#E5ECF6",
           "showlakes": true,
           "showland": true,
           "subunitcolor": "white"
          },
          "hoverlabel": {
           "align": "left"
          },
          "hovermode": "closest",
          "mapbox": {
           "style": "light"
          },
          "paper_bgcolor": "white",
          "plot_bgcolor": "#E5ECF6",
          "polar": {
           "angularaxis": {
            "gridcolor": "white",
            "linecolor": "white",
            "ticks": ""
           },
           "bgcolor": "#E5ECF6",
           "radialaxis": {
            "gridcolor": "white",
            "linecolor": "white",
            "ticks": ""
           }
          },
          "scene": {
           "xaxis": {
            "backgroundcolor": "#E5ECF6",
            "gridcolor": "white",
            "gridwidth": 2,
            "linecolor": "white",
            "showbackground": true,
            "ticks": "",
            "zerolinecolor": "white"
           },
           "yaxis": {
            "backgroundcolor": "#E5ECF6",
            "gridcolor": "white",
            "gridwidth": 2,
            "linecolor": "white",
            "showbackground": true,
            "ticks": "",
            "zerolinecolor": "white"
           },
           "zaxis": {
            "backgroundcolor": "#E5ECF6",
            "gridcolor": "white",
            "gridwidth": 2,
            "linecolor": "white",
            "showbackground": true,
            "ticks": "",
            "zerolinecolor": "white"
           }
          },
          "shapedefaults": {
           "line": {
            "color": "#2a3f5f"
           }
          },
          "ternary": {
           "aaxis": {
            "gridcolor": "white",
            "linecolor": "white",
            "ticks": ""
           },
           "baxis": {
            "gridcolor": "white",
            "linecolor": "white",
            "ticks": ""
           },
           "bgcolor": "#E5ECF6",
           "caxis": {
            "gridcolor": "white",
            "linecolor": "white",
            "ticks": ""
           }
          },
          "title": {
           "x": 0.05
          },
          "xaxis": {
           "automargin": true,
           "gridcolor": "white",
           "linecolor": "white",
           "ticks": "",
           "title": {
            "standoff": 15
           },
           "zerolinecolor": "white",
           "zerolinewidth": 2
          },
          "yaxis": {
           "automargin": true,
           "gridcolor": "white",
           "linecolor": "white",
           "ticks": "",
           "title": {
            "standoff": 15
           },
           "zerolinecolor": "white",
           "zerolinewidth": 2
          }
         }
        },
        "title": {
         "text": "Flights Delayed",
         "x": 0.5
        },
        "uniformtext": {
         "minsize": 4,
         "mode": "hide"
        }
       }
      },
      "text/html": [
       "<div>\n",
       "        \n",
       "        \n",
       "            <div id=\"599bd6ec-bb7f-4686-a4ed-182157130242\" class=\"plotly-graph-div\" style=\"height:525px; width:100%;\"></div>\n",
       "            <script type=\"text/javascript\">\n",
       "                require([\"plotly\"], function(Plotly) {\n",
       "                    window.PLOTLYENV=window.PLOTLYENV || {};\n",
       "                    \n",
       "                if (document.getElementById(\"599bd6ec-bb7f-4686-a4ed-182157130242\")) {\n",
       "                    Plotly.newPlot(\n",
       "                        '599bd6ec-bb7f-4686-a4ed-182157130242',\n",
       "                        [{\"domain\": {\"x\": [0.0, 0.45], \"y\": [0.0, 1.0]}, \"labels\": [\"Delayed (<15 minutes)\", \"Delayed (>15 minutes)\"], \"marker\": {\"colors\": [\"blue\", \"red\"], \"line\": {\"color\": \"#000000\", \"width\": 2}}, \"pull\": [0, 0.1], \"textfont\": {\"size\": 14}, \"textinfo\": \"value\", \"type\": \"pie\", \"values\": [468703, 98927]}, {\"domain\": {\"x\": [0.55, 1.0], \"y\": [0.0, 1.0]}, \"labels\": [\"Delayed (<15 minutes)\", \"Delayed (>15 minutes)\"], \"marker\": {\"colors\": [\"blue\", \"red\"], \"line\": {\"color\": \"#000000\", \"width\": 2}}, \"pull\": [0, 0.1], \"textfont\": {\"size\": 14}, \"textinfo\": \"value\", \"type\": \"pie\", \"values\": [460741, 460741]}],\n",
       "                        {\"annotations\": [{\"font\": {\"size\": 16}, \"showarrow\": false, \"text\": \"Departures\", \"x\": 0.225, \"xanchor\": \"center\", \"xref\": \"paper\", \"y\": 1.0, \"yanchor\": \"bottom\", \"yref\": \"paper\"}, {\"font\": {\"size\": 16}, \"showarrow\": false, \"text\": \"Arrivals\", \"x\": 0.775, \"xanchor\": \"center\", \"xref\": \"paper\", \"y\": 1.0, \"yanchor\": \"bottom\", \"yref\": \"paper\"}], \"legend\": {\"title\": {\"text\": \"<b>               Flights</b>\"}, \"x\": 0.45, \"y\": 0.6}, \"template\": {\"data\": {\"bar\": [{\"error_x\": {\"color\": \"#2a3f5f\"}, \"error_y\": {\"color\": \"#2a3f5f\"}, \"marker\": {\"line\": {\"color\": \"#E5ECF6\", \"width\": 0.5}}, \"type\": \"bar\"}], \"barpolar\": [{\"marker\": {\"line\": {\"color\": \"#E5ECF6\", \"width\": 0.5}}, \"type\": \"barpolar\"}], \"carpet\": [{\"aaxis\": {\"endlinecolor\": \"#2a3f5f\", \"gridcolor\": \"white\", \"linecolor\": \"white\", \"minorgridcolor\": \"white\", \"startlinecolor\": \"#2a3f5f\"}, \"baxis\": {\"endlinecolor\": \"#2a3f5f\", \"gridcolor\": \"white\", \"linecolor\": \"white\", \"minorgridcolor\": \"white\", \"startlinecolor\": \"#2a3f5f\"}, \"type\": \"carpet\"}], \"choropleth\": [{\"colorbar\": {\"outlinewidth\": 0, \"ticks\": \"\"}, \"type\": \"choropleth\"}], \"contour\": [{\"colorbar\": {\"outlinewidth\": 0, \"ticks\": \"\"}, \"colorscale\": [[0.0, \"#0d0887\"], [0.1111111111111111, \"#46039f\"], [0.2222222222222222, \"#7201a8\"], [0.3333333333333333, \"#9c179e\"], [0.4444444444444444, \"#bd3786\"], [0.5555555555555556, \"#d8576b\"], [0.6666666666666666, \"#ed7953\"], [0.7777777777777778, \"#fb9f3a\"], [0.8888888888888888, \"#fdca26\"], [1.0, \"#f0f921\"]], \"type\": \"contour\"}], \"contourcarpet\": [{\"colorbar\": {\"outlinewidth\": 0, \"ticks\": \"\"}, \"type\": \"contourcarpet\"}], \"heatmap\": [{\"colorbar\": {\"outlinewidth\": 0, \"ticks\": \"\"}, \"colorscale\": [[0.0, \"#0d0887\"], [0.1111111111111111, \"#46039f\"], [0.2222222222222222, \"#7201a8\"], [0.3333333333333333, \"#9c179e\"], [0.4444444444444444, \"#bd3786\"], [0.5555555555555556, \"#d8576b\"], [0.6666666666666666, \"#ed7953\"], [0.7777777777777778, \"#fb9f3a\"], [0.8888888888888888, \"#fdca26\"], [1.0, \"#f0f921\"]], \"type\": \"heatmap\"}], \"heatmapgl\": [{\"colorbar\": {\"outlinewidth\": 0, \"ticks\": \"\"}, \"colorscale\": [[0.0, \"#0d0887\"], [0.1111111111111111, \"#46039f\"], [0.2222222222222222, \"#7201a8\"], [0.3333333333333333, \"#9c179e\"], [0.4444444444444444, \"#bd3786\"], [0.5555555555555556, \"#d8576b\"], [0.6666666666666666, \"#ed7953\"], [0.7777777777777778, \"#fb9f3a\"], [0.8888888888888888, \"#fdca26\"], [1.0, \"#f0f921\"]], \"type\": \"heatmapgl\"}], \"histogram\": [{\"marker\": {\"colorbar\": {\"outlinewidth\": 0, \"ticks\": \"\"}}, \"type\": \"histogram\"}], \"histogram2d\": [{\"colorbar\": {\"outlinewidth\": 0, \"ticks\": \"\"}, \"colorscale\": [[0.0, \"#0d0887\"], [0.1111111111111111, \"#46039f\"], [0.2222222222222222, \"#7201a8\"], [0.3333333333333333, \"#9c179e\"], [0.4444444444444444, \"#bd3786\"], [0.5555555555555556, \"#d8576b\"], [0.6666666666666666, \"#ed7953\"], [0.7777777777777778, \"#fb9f3a\"], [0.8888888888888888, \"#fdca26\"], [1.0, \"#f0f921\"]], \"type\": \"histogram2d\"}], \"histogram2dcontour\": [{\"colorbar\": {\"outlinewidth\": 0, \"ticks\": \"\"}, \"colorscale\": [[0.0, \"#0d0887\"], [0.1111111111111111, \"#46039f\"], [0.2222222222222222, \"#7201a8\"], [0.3333333333333333, \"#9c179e\"], [0.4444444444444444, \"#bd3786\"], [0.5555555555555556, \"#d8576b\"], [0.6666666666666666, \"#ed7953\"], [0.7777777777777778, \"#fb9f3a\"], [0.8888888888888888, \"#fdca26\"], [1.0, \"#f0f921\"]], \"type\": \"histogram2dcontour\"}], \"mesh3d\": [{\"colorbar\": {\"outlinewidth\": 0, \"ticks\": \"\"}, \"type\": \"mesh3d\"}], \"parcoords\": [{\"line\": {\"colorbar\": {\"outlinewidth\": 0, \"ticks\": \"\"}}, \"type\": \"parcoords\"}], \"pie\": [{\"automargin\": true, \"type\": \"pie\"}], \"scatter\": [{\"marker\": {\"colorbar\": {\"outlinewidth\": 0, \"ticks\": \"\"}}, \"type\": \"scatter\"}], \"scatter3d\": [{\"line\": {\"colorbar\": {\"outlinewidth\": 0, \"ticks\": \"\"}}, \"marker\": {\"colorbar\": {\"outlinewidth\": 0, \"ticks\": \"\"}}, \"type\": \"scatter3d\"}], \"scattercarpet\": [{\"marker\": {\"colorbar\": {\"outlinewidth\": 0, \"ticks\": \"\"}}, \"type\": \"scattercarpet\"}], \"scattergeo\": [{\"marker\": {\"colorbar\": {\"outlinewidth\": 0, \"ticks\": \"\"}}, \"type\": \"scattergeo\"}], \"scattergl\": [{\"marker\": {\"colorbar\": {\"outlinewidth\": 0, \"ticks\": \"\"}}, \"type\": \"scattergl\"}], \"scattermapbox\": [{\"marker\": {\"colorbar\": {\"outlinewidth\": 0, \"ticks\": \"\"}}, \"type\": \"scattermapbox\"}], \"scatterpolar\": [{\"marker\": {\"colorbar\": {\"outlinewidth\": 0, \"ticks\": \"\"}}, \"type\": \"scatterpolar\"}], \"scatterpolargl\": [{\"marker\": {\"colorbar\": {\"outlinewidth\": 0, \"ticks\": \"\"}}, \"type\": \"scatterpolargl\"}], \"scatterternary\": [{\"marker\": {\"colorbar\": {\"outlinewidth\": 0, \"ticks\": \"\"}}, \"type\": \"scatterternary\"}], \"surface\": [{\"colorbar\": {\"outlinewidth\": 0, \"ticks\": \"\"}, \"colorscale\": [[0.0, \"#0d0887\"], [0.1111111111111111, \"#46039f\"], [0.2222222222222222, \"#7201a8\"], [0.3333333333333333, \"#9c179e\"], [0.4444444444444444, \"#bd3786\"], [0.5555555555555556, \"#d8576b\"], [0.6666666666666666, \"#ed7953\"], [0.7777777777777778, \"#fb9f3a\"], [0.8888888888888888, \"#fdca26\"], [1.0, \"#f0f921\"]], \"type\": \"surface\"}], \"table\": [{\"cells\": {\"fill\": {\"color\": \"#EBF0F8\"}, \"line\": {\"color\": \"white\"}}, \"header\": {\"fill\": {\"color\": \"#C8D4E3\"}, \"line\": {\"color\": \"white\"}}, \"type\": \"table\"}]}, \"layout\": {\"annotationdefaults\": {\"arrowcolor\": \"#2a3f5f\", \"arrowhead\": 0, \"arrowwidth\": 1}, \"coloraxis\": {\"colorbar\": {\"outlinewidth\": 0, \"ticks\": \"\"}}, \"colorscale\": {\"diverging\": [[0, \"#8e0152\"], [0.1, \"#c51b7d\"], [0.2, \"#de77ae\"], [0.3, \"#f1b6da\"], [0.4, \"#fde0ef\"], [0.5, \"#f7f7f7\"], [0.6, \"#e6f5d0\"], [0.7, \"#b8e186\"], [0.8, \"#7fbc41\"], [0.9, \"#4d9221\"], [1, \"#276419\"]], \"sequential\": [[0.0, \"#0d0887\"], [0.1111111111111111, \"#46039f\"], [0.2222222222222222, \"#7201a8\"], [0.3333333333333333, \"#9c179e\"], [0.4444444444444444, \"#bd3786\"], [0.5555555555555556, \"#d8576b\"], [0.6666666666666666, \"#ed7953\"], [0.7777777777777778, \"#fb9f3a\"], [0.8888888888888888, \"#fdca26\"], [1.0, \"#f0f921\"]], \"sequentialminus\": [[0.0, \"#0d0887\"], [0.1111111111111111, \"#46039f\"], [0.2222222222222222, \"#7201a8\"], [0.3333333333333333, \"#9c179e\"], [0.4444444444444444, \"#bd3786\"], [0.5555555555555556, \"#d8576b\"], [0.6666666666666666, \"#ed7953\"], [0.7777777777777778, \"#fb9f3a\"], [0.8888888888888888, \"#fdca26\"], [1.0, \"#f0f921\"]]}, \"colorway\": [\"#636efa\", \"#EF553B\", \"#00cc96\", \"#ab63fa\", \"#FFA15A\", \"#19d3f3\", \"#FF6692\", \"#B6E880\", \"#FF97FF\", \"#FECB52\"], \"font\": {\"color\": \"#2a3f5f\"}, \"geo\": {\"bgcolor\": \"white\", \"lakecolor\": \"white\", \"landcolor\": \"#E5ECF6\", \"showlakes\": true, \"showland\": true, \"subunitcolor\": \"white\"}, \"hoverlabel\": {\"align\": \"left\"}, \"hovermode\": \"closest\", \"mapbox\": {\"style\": \"light\"}, \"paper_bgcolor\": \"white\", \"plot_bgcolor\": \"#E5ECF6\", \"polar\": {\"angularaxis\": {\"gridcolor\": \"white\", \"linecolor\": \"white\", \"ticks\": \"\"}, \"bgcolor\": \"#E5ECF6\", \"radialaxis\": {\"gridcolor\": \"white\", \"linecolor\": \"white\", \"ticks\": \"\"}}, \"scene\": {\"xaxis\": {\"backgroundcolor\": \"#E5ECF6\", \"gridcolor\": \"white\", \"gridwidth\": 2, \"linecolor\": \"white\", \"showbackground\": true, \"ticks\": \"\", \"zerolinecolor\": \"white\"}, \"yaxis\": {\"backgroundcolor\": \"#E5ECF6\", \"gridcolor\": \"white\", \"gridwidth\": 2, \"linecolor\": \"white\", \"showbackground\": true, \"ticks\": \"\", \"zerolinecolor\": \"white\"}, \"zaxis\": {\"backgroundcolor\": \"#E5ECF6\", \"gridcolor\": \"white\", \"gridwidth\": 2, \"linecolor\": \"white\", \"showbackground\": true, \"ticks\": \"\", \"zerolinecolor\": \"white\"}}, \"shapedefaults\": {\"line\": {\"color\": \"#2a3f5f\"}}, \"ternary\": {\"aaxis\": {\"gridcolor\": \"white\", \"linecolor\": \"white\", \"ticks\": \"\"}, \"baxis\": {\"gridcolor\": \"white\", \"linecolor\": \"white\", \"ticks\": \"\"}, \"bgcolor\": \"#E5ECF6\", \"caxis\": {\"gridcolor\": \"white\", \"linecolor\": \"white\", \"ticks\": \"\"}}, \"title\": {\"x\": 0.05}, \"xaxis\": {\"automargin\": true, \"gridcolor\": \"white\", \"linecolor\": \"white\", \"ticks\": \"\", \"title\": {\"standoff\": 15}, \"zerolinecolor\": \"white\", \"zerolinewidth\": 2}, \"yaxis\": {\"automargin\": true, \"gridcolor\": \"white\", \"linecolor\": \"white\", \"ticks\": \"\", \"title\": {\"standoff\": 15}, \"zerolinecolor\": \"white\", \"zerolinewidth\": 2}}}, \"title\": {\"text\": \"Flights Delayed\", \"x\": 0.5}, \"uniformtext\": {\"minsize\": 4, \"mode\": \"hide\"}},\n",
       "                        {\"responsive\": true}\n",
       "                    ).then(function(){\n",
       "                            \n",
       "var gd = document.getElementById('599bd6ec-bb7f-4686-a4ed-182157130242');\n",
       "var x = new MutationObserver(function (mutations, observer) {{\n",
       "        var display = window.getComputedStyle(gd).display;\n",
       "        if (!display || display === 'none') {{\n",
       "            console.log([gd, 'removed!']);\n",
       "            Plotly.purge(gd);\n",
       "            observer.disconnect();\n",
       "        }}\n",
       "}});\n",
       "\n",
       "// Listen for the removal of the full notebook cells\n",
       "var notebookContainer = gd.closest('#notebook-container');\n",
       "if (notebookContainer) {{\n",
       "    x.observe(notebookContainer, {childList: true});\n",
       "}}\n",
       "\n",
       "// Listen for the clearing of the current output cell\n",
       "var outputEl = gd.closest('.output');\n",
       "if (outputEl) {{\n",
       "    x.observe(outputEl, {childList: true});\n",
       "}}\n",
       "\n",
       "                        })\n",
       "                };\n",
       "                });\n",
       "            </script>\n",
       "        </div>"
      ]
     },
     "metadata": {},
     "output_type": "display_data"
    }
   ],
   "source": [
    "#comparing arrivals and departures time frames\n",
    "\n",
    "values = [jan_2019_ontime['DEP_DEL15'].value_counts()[0], jan_2019_ontime['DEP_DEL15'].value_counts()[1]]\n",
    "labels = [\"Delayed (<15 minutes)\", \"Delayed (>15 minutes)\"]\n",
    "colors = ['blue', 'red']\n",
    "values_arrival = [jan_2019_ontime['ARR_DEL15'].value_counts()[0], jan_2019_ontime['ARR_DEL15'].value_counts()[0]]\n",
    "\n",
    "\n",
    "fig = make_subplots(1, 2, specs=[[{'type' : 'domain'}, {'type' : 'domain'}]], subplot_titles=['Departures', 'Arrivals'])\n",
    "\n",
    "fig.add_trace(go.Pie(labels=labels, values=values, pull=[0, 0.1],textinfo = 'label+percent'),1,1)\n",
    "fig.add_trace(go.Pie(labels=labels, values=values_arrival, pull=[0, 0.1],textinfo = 'label+percent'),1,2)\n",
    "\n",
    "fig.update_traces( textinfo='value', textfont_size=14,marker=dict(colors=colors, line=dict(color='#000000', width=2)))\n",
    "\n",
    "fig.update_layout(uniformtext_minsize=4, uniformtext_mode='hide', title_text='Flights Delayed', title_x = 0.5, legend_title='<b>               Flights</b>',legend=dict(x=.45, y=0.6))\n",
    "\n",
    "fig.show()"
   ]
  },
  {
   "cell_type": "code",
   "execution_count": 13,
   "metadata": {},
   "outputs": [
    {
     "data": {
      "text/plain": [
       "Text(0, 0.5, 'Arrival delay (in minutes)')"
      ]
     },
     "execution_count": 13,
     "metadata": {},
     "output_type": "execute_result"
    },
    {
     "data": {
      "image/png": "[encoded data removed]",
      "text/plain": [
       "<Figure size 720x432 with 1 Axes>"
      ]
     },
     "metadata": {},
     "output_type": "display_data"
    }
   ],
   "source": [
    "#Barplot\n",
    "# Set the width and height of the figure\n",
    "plt.figure(figsize=(10,6))\n",
    "# Add title\n",
    "plt.title(\"Arrival Delays from different Airlines\")\n",
    "# Bar chart showing average arrival delay for Spirit Airlines flights by month\n",
    "sns.barplot(x=jan_2019_ontime.ORIGIN_AIRPORT_ID, y=jan_2019_ontime['ARR_DEL15'])\n",
    "# Add label for vertical axis\n",
    "plt.ylabel(\"Arrival delay (in minutes)\")"
   ]
  },
  {
   "cell_type": "code",
   "execution_count": 14,
   "metadata": {},
   "outputs": [
    {
     "data": {
      "text/plain": [
       "Text(0, 0.5, 'Arrival delay (in minutes)')"
      ]
     },
     "execution_count": 14,
     "metadata": {},
     "output_type": "execute_result"
    },
    {
     "data": {
      "image/png": "[encoded data removed]",
      "text/plain": [
       "<Figure size 720x432 with 1 Axes>"
      ]
     },
     "metadata": {},
     "output_type": "display_data"
    }
   ],
   "source": [
    "#Barplot\n",
    "# Set the width and height of the figure\n",
    "plt.figure(figsize=(10,6))\n",
    "# Add title\n",
    "plt.title(\"Flight delay on week days\")\n",
    "# Bar chart showing average arrival delay for Spirit Airlines flights by month\n",
    "sns.barplot(x=jan_2019_ontime.DAY_OF_WEEK, y=jan_2019_ontime['ARR_DEL15'])\n",
    "# Add label for vertical axis\n",
    "plt.ylabel(\"Arrival delay (in minutes)\")"
   ]
  },
  {
   "cell_type": "markdown",
   "metadata": {},
   "source": [
    "# DEALING WITH MISSING VALUES"
   ]
  },
  {
   "cell_type": "code",
   "execution_count": 18,
   "metadata": {},
   "outputs": [],
   "source": [
    "#drop flights with missing data\n",
    "jan_2019_ontime = jan_2019_ontime[ (jan_2019_ontime.CANCELLED != 1) & (jan_2019_ontime.DEP_TIME.isna() == False) & (jan_2019_ontime.ARR_TIME.isna() == False)]\n",
    "len(jan_2019_ontime.CANCELLED.isna()), len(jan_2019_ontime.DEP_TIME.isna()), len(jan_2019_ontime.ARR_TIME.isna()), len(jan_2019_ontime)\n",
    "\n",
    "# drop when target is NAN\n",
    "jan_2019_ontime = jan_2019_ontime[ (jan_2019_ontime.ARR_DEL15.isna() == False)]"
   ]
  },
  {
   "cell_type": "markdown",
   "metadata": {},
   "source": [
    "# DROPING UNNECESSARY COLUMNS"
   ]
  },
  {
   "cell_type": "code",
   "execution_count": 19,
   "metadata": {
    "collapsed": true
   },
   "outputs": [],
   "source": [
    "cols=['Unnamed: 21','OP_CARRIER_AIRLINE_ID','OP_CARRIER','DIVERTED','CANCELLED','ORIGIN','TAIL_NUM','OP_CARRIER_FL_NUM','ORIGIN_AIRPORT_SEQ_ID','DEST_AIRPORT_SEQ_ID','DEST','DAY_OF_MONTH','OP_UNIQUE_CARRIER']\n",
    "jan_2019_ontime=jan_2019_ontime.drop(cols,axis=1)"
   ]
  },
  {
   "cell_type": "markdown",
   "metadata": {},
   "source": [
    "# CONVERTING DATA VALUES INTO MORE USEFUL FORM"
   ]
  },
  {
   "cell_type": "code",
   "execution_count": 20,
   "metadata": {},
   "outputs": [
    {
     "data": {
      "text/html": [
       "<div>\n",
       "<style scoped>\n",
       "    .dataframe tbody tr th:only-of-type {\n",
       "        vertical-align: middle;\n",
       "    }\n",
       "\n",
       "    .dataframe tbody tr th {\n",
       "        vertical-align: top;\n",
       "    }\n",
       "\n",
       "    .dataframe thead th {\n",
       "        text-align: right;\n",
       "    }\n",
       "</style>\n",
       "<table border=\"1\" class=\"dataframe\">\n",
       "  <thead>\n",
       "    <tr style=\"text-align: right;\">\n",
       "      <th></th>\n",
       "      <th>type_of_day</th>\n",
       "      <th>ORIGIN_AIRPORT_ID</th>\n",
       "      <th>DEST_AIRPORT_ID</th>\n",
       "      <th>DEP_TIME</th>\n",
       "      <th>DEP_DEL15</th>\n",
       "      <th>DEP_TIME_BLK</th>\n",
       "      <th>ARR_TIME</th>\n",
       "      <th>ARR_DEL15</th>\n",
       "      <th>DISTANCE</th>\n",
       "    </tr>\n",
       "  </thead>\n",
       "  <tbody>\n",
       "    <tr>\n",
       "      <th>0</th>\n",
       "      <td>0</td>\n",
       "      <td>11953</td>\n",
       "      <td>10397</td>\n",
       "      <td>601.0</td>\n",
       "      <td>0.0</td>\n",
       "      <td>0600-0659</td>\n",
       "      <td>722.0</td>\n",
       "      <td>0.0</td>\n",
       "      <td>300.0</td>\n",
       "    </tr>\n",
       "    <tr>\n",
       "      <th>1</th>\n",
       "      <td>0</td>\n",
       "      <td>13487</td>\n",
       "      <td>11193</td>\n",
       "      <td>1359.0</td>\n",
       "      <td>0.0</td>\n",
       "      <td>1400-1459</td>\n",
       "      <td>1633.0</td>\n",
       "      <td>0.0</td>\n",
       "      <td>596.0</td>\n",
       "    </tr>\n",
       "    <tr>\n",
       "      <th>2</th>\n",
       "      <td>0</td>\n",
       "      <td>11433</td>\n",
       "      <td>11193</td>\n",
       "      <td>1215.0</td>\n",
       "      <td>0.0</td>\n",
       "      <td>1200-1259</td>\n",
       "      <td>1329.0</td>\n",
       "      <td>0.0</td>\n",
       "      <td>229.0</td>\n",
       "    </tr>\n",
       "    <tr>\n",
       "      <th>3</th>\n",
       "      <td>0</td>\n",
       "      <td>15249</td>\n",
       "      <td>10397</td>\n",
       "      <td>1521.0</td>\n",
       "      <td>0.0</td>\n",
       "      <td>1500-1559</td>\n",
       "      <td>1625.0</td>\n",
       "      <td>0.0</td>\n",
       "      <td>223.0</td>\n",
       "    </tr>\n",
       "    <tr>\n",
       "      <th>4</th>\n",
       "      <td>0</td>\n",
       "      <td>10397</td>\n",
       "      <td>11778</td>\n",
       "      <td>1847.0</td>\n",
       "      <td>0.0</td>\n",
       "      <td>1900-1959</td>\n",
       "      <td>1940.0</td>\n",
       "      <td>0.0</td>\n",
       "      <td>579.0</td>\n",
       "    </tr>\n",
       "    <tr>\n",
       "      <th>...</th>\n",
       "      <td>...</td>\n",
       "      <td>...</td>\n",
       "      <td>...</td>\n",
       "      <td>...</td>\n",
       "      <td>...</td>\n",
       "      <td>...</td>\n",
       "      <td>...</td>\n",
       "      <td>...</td>\n",
       "      <td>...</td>\n",
       "    </tr>\n",
       "    <tr>\n",
       "      <th>583980</th>\n",
       "      <td>0</td>\n",
       "      <td>12016</td>\n",
       "      <td>12173</td>\n",
       "      <td>749.0</td>\n",
       "      <td>0.0</td>\n",
       "      <td>0700-0759</td>\n",
       "      <td>1832.0</td>\n",
       "      <td>0.0</td>\n",
       "      <td>3801.0</td>\n",
       "    </tr>\n",
       "    <tr>\n",
       "      <th>583981</th>\n",
       "      <td>0</td>\n",
       "      <td>12016</td>\n",
       "      <td>14955</td>\n",
       "      <td>717.0</td>\n",
       "      <td>0.0</td>\n",
       "      <td>0700-0759</td>\n",
       "      <td>759.0</td>\n",
       "      <td>0.0</td>\n",
       "      <td>129.0</td>\n",
       "    </tr>\n",
       "    <tr>\n",
       "      <th>583982</th>\n",
       "      <td>0</td>\n",
       "      <td>14955</td>\n",
       "      <td>12016</td>\n",
       "      <td>857.0</td>\n",
       "      <td>0.0</td>\n",
       "      <td>0900-0959</td>\n",
       "      <td>933.0</td>\n",
       "      <td>0.0</td>\n",
       "      <td>129.0</td>\n",
       "    </tr>\n",
       "    <tr>\n",
       "      <th>583983</th>\n",
       "      <td>0</td>\n",
       "      <td>14955</td>\n",
       "      <td>12016</td>\n",
       "      <td>1820.0</td>\n",
       "      <td>0.0</td>\n",
       "      <td>1800-1859</td>\n",
       "      <td>1854.0</td>\n",
       "      <td>0.0</td>\n",
       "      <td>129.0</td>\n",
       "    </tr>\n",
       "    <tr>\n",
       "      <th>583984</th>\n",
       "      <td>0</td>\n",
       "      <td>12016</td>\n",
       "      <td>14955</td>\n",
       "      <td>1636.0</td>\n",
       "      <td>0.0</td>\n",
       "      <td>1600-1659</td>\n",
       "      <td>1719.0</td>\n",
       "      <td>0.0</td>\n",
       "      <td>129.0</td>\n",
       "    </tr>\n",
       "  </tbody>\n",
       "</table>\n",
       "<p>565963 rows × 9 columns</p>\n",
       "</div>"
      ],
      "text/plain": [
       "        type_of_day  ORIGIN_AIRPORT_ID  DEST_AIRPORT_ID  DEP_TIME  DEP_DEL15  \\\n",
       "0                 0              11953            10397     601.0        0.0   \n",
       "1                 0              13487            11193    1359.0        0.0   \n",
       "2                 0              11433            11193    1215.0        0.0   \n",
       "3                 0              15249            10397    1521.0        0.0   \n",
       "4                 0              10397            11778    1847.0        0.0   \n",
       "...             ...                ...              ...       ...        ...   \n",
       "583980            0              12016            12173     749.0        0.0   \n",
       "583981            0              12016            14955     717.0        0.0   \n",
       "583982            0              14955            12016     857.0        0.0   \n",
       "583983            0              14955            12016    1820.0        0.0   \n",
       "583984            0              12016            14955    1636.0        0.0   \n",
       "\n",
       "       DEP_TIME_BLK  ARR_TIME  ARR_DEL15  DISTANCE  \n",
       "0         0600-0659     722.0        0.0     300.0  \n",
       "1         1400-1459    1633.0        0.0     596.0  \n",
       "2         1200-1259    1329.0        0.0     229.0  \n",
       "3         1500-1559    1625.0        0.0     223.0  \n",
       "4         1900-1959    1940.0        0.0     579.0  \n",
       "...             ...       ...        ...       ...  \n",
       "583980    0700-0759    1832.0        0.0    3801.0  \n",
       "583981    0700-0759     759.0        0.0     129.0  \n",
       "583982    0900-0959     933.0        0.0     129.0  \n",
       "583983    1800-1859    1854.0        0.0     129.0  \n",
       "583984    1600-1659    1719.0        0.0     129.0  \n",
       "\n",
       "[565963 rows x 9 columns]"
      ]
     },
     "execution_count": 20,
     "metadata": {},
     "output_type": "execute_result"
    }
   ],
   "source": [
    "def get_day_category(day_of_week):\n",
    "    if day_of_week <= 5:\n",
    "        return 0 #'for working day'\n",
    "    elif day_of_week > 5:\n",
    "        return 1 #'for weekend'\n",
    "    \n",
    "jan_2019_ontime.DAY_OF_WEEK = jan_2019_ontime.DAY_OF_WEEK.apply(get_day_category)\n",
    "jan_2019_ontime.rename(columns={'DAY_OF_WEEK':'type_of_day'})"
   ]
  },
  {
   "cell_type": "code",
   "execution_count": 21,
   "metadata": {
    "collapsed": true
   },
   "outputs": [],
   "source": [
    "jan_2019_ontime['origin_day_avg'] = jan_2019_ontime.groupby(['ORIGIN_AIRPORT_ID','DAY_OF_WEEK'])['DEP_TIME'].transform('mean').astype(np.float16)\n",
    "jan_2019_ontime['dest_day_avg'] = jan_2019_ontime.groupby(['DEST_AIRPORT_ID','DAY_OF_WEEK'])['ARR_TIME'].transform('mean').astype(np.float16)"
   ]
  },
  {
   "cell_type": "code",
   "execution_count": 22,
   "metadata": {
    "collapsed": true
   },
   "outputs": [],
   "source": [
    "#replace missing target values \n",
    "def new_arrival_delay(dep_delay, arr_delay):\n",
    "    if np.isnan(arr_delay):\n",
    "        return dep_delay\n",
    "    else:\n",
    "        return arr_delay\n",
    "\n",
    "jan_2019_ontime['ARR_DEL15'] = jan_2019_ontime.apply(lambda row :new_arrival_delay(row['DEP_DEL15'],row['ARR_DEL15']), axis = 1)"
   ]
  },
  {
   "cell_type": "code",
   "execution_count": 23,
   "metadata": {
    "collapsed": true
   },
   "outputs": [],
   "source": [
    "# CREATE ARR_TIME_BLK \n",
    "\n",
    "#generate block hours\n",
    "blocks = []\n",
    "for hour in range(0,24):\n",
    "    hour_part = ('%02d' %(hour))\n",
    "    blocks.append(hour_part + '00-' + hour_part + '59')\n",
    "blocks\n",
    "\n",
    "def arrival_time_blk(arr_time):\n",
    "    arr_hour = str('%04d' %(arr_time))[:2]\n",
    "    arr_block = None\n",
    "    for block in blocks:\n",
    "        #print (block,arr_hour)\n",
    "        if block.startswith(arr_hour):\n",
    "            arr_block = block\n",
    "            break\n",
    "    if arr_block == None and str(arr_time) == '2400.0':\n",
    "        arr_block = '0000-0059'\n",
    "        #print('Cannot find block for #' + str(arr_time) + '#: set block to #' + arr_block + '#')\n",
    "    return arr_block\n",
    "\n",
    "jan_2019_ontime['ARR_TIME_BLK'] = jan_2019_ontime.ARR_TIME.apply(arrival_time_blk)\n",
    "# drop the no more useful ARR_TIME\n",
    "jan_2019_ontime.drop(['ARR_TIME'], inplace=True, axis=1)"
   ]
  },
  {
   "cell_type": "markdown",
   "metadata": {},
   "source": [
    "# LABEL ENCODING OF CATEGORICAL DATA COLUMNS"
   ]
  },
  {
   "cell_type": "code",
   "execution_count": 25,
   "metadata": {},
   "outputs": [],
   "source": [
    "# label encode ARR_TIME_BLK and DEP_TIME_BLK\n",
    "le = LabelEncoder()\n",
    "le.fit(blocks)\n",
    "le.classes_\n",
    "jan_2019_ontime['ARR_TIME_BLK'] = le.transform(jan_2019_ontime.ARR_TIME_BLK.values)\n",
    "jan_2019_ontime['DEP_TIME_BLK'] = le.transform(jan_2019_ontime.DEP_TIME_BLK.values)"
   ]
  },
  {
   "cell_type": "code",
   "execution_count": 27,
   "metadata": {},
   "outputs": [],
   "source": [
    "#Before spliting data, SORT IT FIRST\n",
    "jan_2019_ontime= jan_2019_ontime.reindex(sorted(jan_2019_ontime.columns), axis=1)"
   ]
  },
  {
   "cell_type": "code",
   "execution_count": 28,
   "metadata": {},
   "outputs": [
    {
     "name": "stdout",
     "output_type": "stream",
     "text": [
      "<class 'pandas.core.frame.DataFrame'>\n",
      "Int64Index: 565963 entries, 0 to 583984\n",
      "Data columns (total 11 columns):\n",
      " #   Column             Non-Null Count   Dtype  \n",
      "---  ------             --------------   -----  \n",
      " 0   ARR_DEL15          565963 non-null  float64\n",
      " 1   ARR_TIME_BLK       565963 non-null  int32  \n",
      " 2   DAY_OF_WEEK        565963 non-null  int64  \n",
      " 3   DEP_DEL15          565963 non-null  float64\n",
      " 4   DEP_TIME           565963 non-null  float64\n",
      " 5   DEP_TIME_BLK       565963 non-null  int32  \n",
      " 6   DEST_AIRPORT_ID    565963 non-null  int64  \n",
      " 7   DISTANCE           565963 non-null  float64\n",
      " 8   ORIGIN_AIRPORT_ID  565963 non-null  int64  \n",
      " 9   dest_day_avg       565963 non-null  float16\n",
      " 10  origin_day_avg     565963 non-null  float16\n",
      "dtypes: float16(2), float64(4), int32(2), int64(3)\n",
      "memory usage: 41.0 MB\n"
     ]
    }
   ],
   "source": [
    "jan_2019_ontime.info()"
   ]
  },
  {
   "cell_type": "code",
   "execution_count": 29,
   "metadata": {
    "collapsed": true
   },
   "outputs": [],
   "source": [
    "#Remove DEP_TIME column \n",
    "jan_2019_ontime= jan_2019_ontime.drop(['DEP_TIME','DEP_DEL15'], axis=1)"
   ]
  },
  {
   "cell_type": "code",
   "execution_count": 31,
   "metadata": {},
   "outputs": [
    {
     "data": {
      "text/html": [
       "<div>\n",
       "<style scoped>\n",
       "    .dataframe tbody tr th:only-of-type {\n",
       "        vertical-align: middle;\n",
       "    }\n",
       "\n",
       "    .dataframe tbody tr th {\n",
       "        vertical-align: top;\n",
       "    }\n",
       "\n",
       "    .dataframe thead th {\n",
       "        text-align: right;\n",
       "    }\n",
       "</style>\n",
       "<table border=\"1\" class=\"dataframe\">\n",
       "  <thead>\n",
       "    <tr style=\"text-align: right;\">\n",
       "      <th></th>\n",
       "      <th>ARR_DEL15</th>\n",
       "      <th>ARR_TIME_BLK</th>\n",
       "      <th>DAY_OF_WEEK</th>\n",
       "      <th>DEP_TIME_BLK</th>\n",
       "      <th>DEST_AIRPORT_ID</th>\n",
       "      <th>DISTANCE</th>\n",
       "      <th>ORIGIN_AIRPORT_ID</th>\n",
       "      <th>dest_day_avg</th>\n",
       "      <th>origin_day_avg</th>\n",
       "    </tr>\n",
       "  </thead>\n",
       "  <tbody>\n",
       "    <tr>\n",
       "      <th>0</th>\n",
       "      <td>0.0</td>\n",
       "      <td>7</td>\n",
       "      <td>0</td>\n",
       "      <td>6</td>\n",
       "      <td>10397</td>\n",
       "      <td>300.0</td>\n",
       "      <td>11953</td>\n",
       "      <td>1421.0</td>\n",
       "      <td>1199.0</td>\n",
       "    </tr>\n",
       "    <tr>\n",
       "      <th>1</th>\n",
       "      <td>0.0</td>\n",
       "      <td>16</td>\n",
       "      <td>0</td>\n",
       "      <td>14</td>\n",
       "      <td>11193</td>\n",
       "      <td>596.0</td>\n",
       "      <td>13487</td>\n",
       "      <td>1529.0</td>\n",
       "      <td>1384.0</td>\n",
       "    </tr>\n",
       "    <tr>\n",
       "      <th>2</th>\n",
       "      <td>0.0</td>\n",
       "      <td>13</td>\n",
       "      <td>0</td>\n",
       "      <td>12</td>\n",
       "      <td>11193</td>\n",
       "      <td>229.0</td>\n",
       "      <td>11433</td>\n",
       "      <td>1529.0</td>\n",
       "      <td>1399.0</td>\n",
       "    </tr>\n",
       "    <tr>\n",
       "      <th>3</th>\n",
       "      <td>0.0</td>\n",
       "      <td>16</td>\n",
       "      <td>0</td>\n",
       "      <td>15</td>\n",
       "      <td>10397</td>\n",
       "      <td>223.0</td>\n",
       "      <td>15249</td>\n",
       "      <td>1421.0</td>\n",
       "      <td>1195.0</td>\n",
       "    </tr>\n",
       "    <tr>\n",
       "      <th>4</th>\n",
       "      <td>0.0</td>\n",
       "      <td>19</td>\n",
       "      <td>0</td>\n",
       "      <td>19</td>\n",
       "      <td>11778</td>\n",
       "      <td>579.0</td>\n",
       "      <td>10397</td>\n",
       "      <td>1620.0</td>\n",
       "      <td>1464.0</td>\n",
       "    </tr>\n",
       "  </tbody>\n",
       "</table>\n",
       "</div>"
      ],
      "text/plain": [
       "   ARR_DEL15  ARR_TIME_BLK  DAY_OF_WEEK  DEP_TIME_BLK  DEST_AIRPORT_ID  \\\n",
       "0        0.0             7            0             6            10397   \n",
       "1        0.0            16            0            14            11193   \n",
       "2        0.0            13            0            12            11193   \n",
       "3        0.0            16            0            15            10397   \n",
       "4        0.0            19            0            19            11778   \n",
       "\n",
       "   DISTANCE  ORIGIN_AIRPORT_ID  dest_day_avg  origin_day_avg  \n",
       "0     300.0              11953        1421.0          1199.0  \n",
       "1     596.0              13487        1529.0          1384.0  \n",
       "2     229.0              11433        1529.0          1399.0  \n",
       "3     223.0              15249        1421.0          1195.0  \n",
       "4     579.0              10397        1620.0          1464.0  "
      ]
     },
     "execution_count": 31,
     "metadata": {},
     "output_type": "execute_result"
    }
   ],
   "source": [
    "jan_2019_ontime.head()"
   ]
  },
  {
   "cell_type": "markdown",
   "metadata": {},
   "source": [
    "# SPILT DATA FOR TRAINING AND TESTING"
   ]
  },
  {
   "cell_type": "code",
   "execution_count": 32,
   "metadata": {
    "collapsed": true
   },
   "outputs": [],
   "source": [
    "from sklearn.model_selection import train_test_split\n",
    "Y = jan_2019_ontime['ARR_DEL15'].values\n",
    "X = jan_2019_ontime.drop(['ARR_DEL15'], axis=1).values\n",
    "\n",
    "X_train, X_valid, Y_train, Y_valid =  train_test_split(X,Y, test_size=0.2, random_state=1)"
   ]
  },
  {
   "cell_type": "markdown",
   "metadata": {},
   "source": [
    "# MODEL TRAINING WITH XGBOOST"
   ]
  },
  {
   "cell_type": "code",
   "execution_count": 33,
   "metadata": {},
   "outputs": [
    {
     "name": "stdout",
     "output_type": "stream",
     "text": [
      "[20:04:08] WARNING: C:/Jenkins/workspace/xgboost-win64_release_0.90/src/objective/regression_obj.cu:152: reg:linear is now deprecated in favor of reg:squarederror.\n",
      "[0]\tvalidation_0-auc:0.665699\tvalidation_1-auc:0.666917\n",
      "Multiple eval metrics have been passed: 'validation_1-auc' will be used for early stopping.\n",
      "\n",
      "Will train until validation_1-auc hasn't improved in 10 rounds.\n",
      "[1]\tvalidation_0-auc:0.765274\tvalidation_1-auc:0.763935\n",
      "[2]\tvalidation_0-auc:0.760878\tvalidation_1-auc:0.759484\n",
      "[3]\tvalidation_0-auc:0.787884\tvalidation_1-auc:0.786028\n",
      "[4]\tvalidation_0-auc:0.798056\tvalidation_1-auc:0.796257\n",
      "[5]\tvalidation_0-auc:0.797747\tvalidation_1-auc:0.796083\n",
      "[6]\tvalidation_0-auc:0.803433\tvalidation_1-auc:0.80135\n",
      "[7]\tvalidation_0-auc:0.803909\tvalidation_1-auc:0.801711\n",
      "[8]\tvalidation_0-auc:0.809472\tvalidation_1-auc:0.807088\n",
      "[9]\tvalidation_0-auc:0.813223\tvalidation_1-auc:0.810702\n",
      "[10]\tvalidation_0-auc:0.814733\tvalidation_1-auc:0.812187\n",
      "[11]\tvalidation_0-auc:0.816699\tvalidation_1-auc:0.813927\n",
      "[12]\tvalidation_0-auc:0.819264\tvalidation_1-auc:0.816139\n",
      "[13]\tvalidation_0-auc:0.821311\tvalidation_1-auc:0.818148\n",
      "[14]\tvalidation_0-auc:0.822704\tvalidation_1-auc:0.819451\n",
      "[15]\tvalidation_0-auc:0.823375\tvalidation_1-auc:0.820058\n",
      "[16]\tvalidation_0-auc:0.825298\tvalidation_1-auc:0.821874\n",
      "[17]\tvalidation_0-auc:0.825671\tvalidation_1-auc:0.822287\n",
      "[18]\tvalidation_0-auc:0.827846\tvalidation_1-auc:0.824209\n",
      "[19]\tvalidation_0-auc:0.830225\tvalidation_1-auc:0.826419\n",
      "[20]\tvalidation_0-auc:0.831065\tvalidation_1-auc:0.827134\n",
      "[21]\tvalidation_0-auc:0.831855\tvalidation_1-auc:0.827885\n",
      "[22]\tvalidation_0-auc:0.83225\tvalidation_1-auc:0.82837\n",
      "[23]\tvalidation_0-auc:0.832485\tvalidation_1-auc:0.8287\n",
      "[24]\tvalidation_0-auc:0.833235\tvalidation_1-auc:0.829285\n",
      "[25]\tvalidation_0-auc:0.833704\tvalidation_1-auc:0.82967\n",
      "[26]\tvalidation_0-auc:0.833699\tvalidation_1-auc:0.829783\n",
      "[27]\tvalidation_0-auc:0.835478\tvalidation_1-auc:0.831409\n",
      "[28]\tvalidation_0-auc:0.836987\tvalidation_1-auc:0.832767\n",
      "[29]\tvalidation_0-auc:0.838356\tvalidation_1-auc:0.834022\n",
      "[30]\tvalidation_0-auc:0.839622\tvalidation_1-auc:0.835063\n",
      "[31]\tvalidation_0-auc:0.840977\tvalidation_1-auc:0.836221\n",
      "[32]\tvalidation_0-auc:0.842383\tvalidation_1-auc:0.837483\n",
      "[33]\tvalidation_0-auc:0.843469\tvalidation_1-auc:0.8384\n",
      "[34]\tvalidation_0-auc:0.844234\tvalidation_1-auc:0.839081\n",
      "[35]\tvalidation_0-auc:0.845014\tvalidation_1-auc:0.839748\n",
      "[36]\tvalidation_0-auc:0.846002\tvalidation_1-auc:0.840471\n",
      "[37]\tvalidation_0-auc:0.846912\tvalidation_1-auc:0.841337\n",
      "[38]\tvalidation_0-auc:0.847037\tvalidation_1-auc:0.841575\n",
      "[39]\tvalidation_0-auc:0.848031\tvalidation_1-auc:0.842357\n",
      "[40]\tvalidation_0-auc:0.848925\tvalidation_1-auc:0.843061\n",
      "[41]\tvalidation_0-auc:0.849627\tvalidation_1-auc:0.843605\n",
      "[42]\tvalidation_0-auc:0.850365\tvalidation_1-auc:0.844263\n",
      "[43]\tvalidation_0-auc:0.851044\tvalidation_1-auc:0.844722\n",
      "[44]\tvalidation_0-auc:0.851498\tvalidation_1-auc:0.84516\n",
      "[45]\tvalidation_0-auc:0.852067\tvalidation_1-auc:0.845642\n",
      "[46]\tvalidation_0-auc:0.852685\tvalidation_1-auc:0.846089\n",
      "[47]\tvalidation_0-auc:0.853408\tvalidation_1-auc:0.8467\n",
      "[48]\tvalidation_0-auc:0.854073\tvalidation_1-auc:0.847248\n",
      "[49]\tvalidation_0-auc:0.854293\tvalidation_1-auc:0.847451\n",
      "[50]\tvalidation_0-auc:0.854866\tvalidation_1-auc:0.84796\n",
      "[51]\tvalidation_0-auc:0.855175\tvalidation_1-auc:0.848295\n",
      "[52]\tvalidation_0-auc:0.855842\tvalidation_1-auc:0.848955\n",
      "[53]\tvalidation_0-auc:0.85614\tvalidation_1-auc:0.849129\n",
      "[54]\tvalidation_0-auc:0.856251\tvalidation_1-auc:0.849232\n",
      "[55]\tvalidation_0-auc:0.856783\tvalidation_1-auc:0.849797\n",
      "[56]\tvalidation_0-auc:0.857233\tvalidation_1-auc:0.85011\n",
      "[57]\tvalidation_0-auc:0.857655\tvalidation_1-auc:0.850535\n",
      "[58]\tvalidation_0-auc:0.858576\tvalidation_1-auc:0.851442\n",
      "[59]\tvalidation_0-auc:0.858925\tvalidation_1-auc:0.851831\n",
      "[60]\tvalidation_0-auc:0.859542\tvalidation_1-auc:0.852446\n",
      "[61]\tvalidation_0-auc:0.860011\tvalidation_1-auc:0.852714\n",
      "[62]\tvalidation_0-auc:0.860647\tvalidation_1-auc:0.853188\n",
      "[63]\tvalidation_0-auc:0.861203\tvalidation_1-auc:0.853643\n",
      "[64]\tvalidation_0-auc:0.861527\tvalidation_1-auc:0.853912\n",
      "[65]\tvalidation_0-auc:0.862055\tvalidation_1-auc:0.854367\n",
      "[66]\tvalidation_0-auc:0.862331\tvalidation_1-auc:0.854566\n",
      "[67]\tvalidation_0-auc:0.862473\tvalidation_1-auc:0.854691\n",
      "[68]\tvalidation_0-auc:0.863152\tvalidation_1-auc:0.855272\n",
      "[69]\tvalidation_0-auc:0.863348\tvalidation_1-auc:0.855463\n",
      "[70]\tvalidation_0-auc:0.864056\tvalidation_1-auc:0.856079\n",
      "[71]\tvalidation_0-auc:0.864875\tvalidation_1-auc:0.856855\n",
      "[72]\tvalidation_0-auc:0.865209\tvalidation_1-auc:0.857168\n",
      "[73]\tvalidation_0-auc:0.865954\tvalidation_1-auc:0.857874\n",
      "[74]\tvalidation_0-auc:0.866437\tvalidation_1-auc:0.858331\n",
      "[75]\tvalidation_0-auc:0.86675\tvalidation_1-auc:0.858596\n",
      "[76]\tvalidation_0-auc:0.866851\tvalidation_1-auc:0.858698\n",
      "[77]\tvalidation_0-auc:0.867169\tvalidation_1-auc:0.858854\n",
      "[78]\tvalidation_0-auc:0.867432\tvalidation_1-auc:0.859103\n",
      "[79]\tvalidation_0-auc:0.867679\tvalidation_1-auc:0.859381\n",
      "[80]\tvalidation_0-auc:0.868081\tvalidation_1-auc:0.859721\n",
      "[81]\tvalidation_0-auc:0.868544\tvalidation_1-auc:0.860122\n",
      "[82]\tvalidation_0-auc:0.868922\tvalidation_1-auc:0.860426\n",
      "[83]\tvalidation_0-auc:0.869457\tvalidation_1-auc:0.860818\n",
      "[84]\tvalidation_0-auc:0.86996\tvalidation_1-auc:0.861264\n",
      "[85]\tvalidation_0-auc:0.870009\tvalidation_1-auc:0.861269\n",
      "[86]\tvalidation_0-auc:0.870264\tvalidation_1-auc:0.861493\n",
      "[87]\tvalidation_0-auc:0.870349\tvalidation_1-auc:0.86155\n",
      "[88]\tvalidation_0-auc:0.870491\tvalidation_1-auc:0.8617\n",
      "[89]\tvalidation_0-auc:0.871032\tvalidation_1-auc:0.862199\n",
      "[90]\tvalidation_0-auc:0.871271\tvalidation_1-auc:0.862491\n",
      "[91]\tvalidation_0-auc:0.871372\tvalidation_1-auc:0.862543\n",
      "[92]\tvalidation_0-auc:0.872054\tvalidation_1-auc:0.863201\n",
      "[93]\tvalidation_0-auc:0.872377\tvalidation_1-auc:0.863533\n",
      "[94]\tvalidation_0-auc:0.872601\tvalidation_1-auc:0.863687\n",
      "[95]\tvalidation_0-auc:0.872875\tvalidation_1-auc:0.863914\n",
      "[96]\tvalidation_0-auc:0.873002\tvalidation_1-auc:0.864023\n",
      "[97]\tvalidation_0-auc:0.873275\tvalidation_1-auc:0.864253\n",
      "[98]\tvalidation_0-auc:0.873533\tvalidation_1-auc:0.864463\n",
      "[99]\tvalidation_0-auc:0.873564\tvalidation_1-auc:0.864485\n",
      "[100]\tvalidation_0-auc:0.873769\tvalidation_1-auc:0.864654\n",
      "[101]\tvalidation_0-auc:0.874277\tvalidation_1-auc:0.86511\n",
      "[102]\tvalidation_0-auc:0.874383\tvalidation_1-auc:0.865172\n",
      "[103]\tvalidation_0-auc:0.874495\tvalidation_1-auc:0.865313\n",
      "[104]\tvalidation_0-auc:0.874678\tvalidation_1-auc:0.865395\n",
      "[105]\tvalidation_0-auc:0.874938\tvalidation_1-auc:0.865652\n",
      "[106]\tvalidation_0-auc:0.874977\tvalidation_1-auc:0.865715\n",
      "[107]\tvalidation_0-auc:0.875271\tvalidation_1-auc:0.865993\n",
      "[108]\tvalidation_0-auc:0.875562\tvalidation_1-auc:0.866256\n",
      "[109]\tvalidation_0-auc:0.875637\tvalidation_1-auc:0.8663\n",
      "[110]\tvalidation_0-auc:0.876032\tvalidation_1-auc:0.866629\n",
      "[111]\tvalidation_0-auc:0.876235\tvalidation_1-auc:0.866796\n",
      "[112]\tvalidation_0-auc:0.876508\tvalidation_1-auc:0.867037\n",
      "[113]\tvalidation_0-auc:0.876939\tvalidation_1-auc:0.867412\n",
      "[114]\tvalidation_0-auc:0.877345\tvalidation_1-auc:0.867813\n",
      "[115]\tvalidation_0-auc:0.877344\tvalidation_1-auc:0.867819\n",
      "[116]\tvalidation_0-auc:0.877579\tvalidation_1-auc:0.867949\n",
      "[117]\tvalidation_0-auc:0.877875\tvalidation_1-auc:0.868217\n",
      "[118]\tvalidation_0-auc:0.878262\tvalidation_1-auc:0.868611\n",
      "[119]\tvalidation_0-auc:0.878473\tvalidation_1-auc:0.868795\n",
      "[120]\tvalidation_0-auc:0.878656\tvalidation_1-auc:0.868944\n",
      "[121]\tvalidation_0-auc:0.878804\tvalidation_1-auc:0.869072\n",
      "[122]\tvalidation_0-auc:0.878896\tvalidation_1-auc:0.869154\n",
      "[123]\tvalidation_0-auc:0.879223\tvalidation_1-auc:0.86943\n",
      "[124]\tvalidation_0-auc:0.879788\tvalidation_1-auc:0.869973\n",
      "[125]\tvalidation_0-auc:0.879913\tvalidation_1-auc:0.870036\n",
      "[126]\tvalidation_0-auc:0.880212\tvalidation_1-auc:0.870327\n",
      "[127]\tvalidation_0-auc:0.880339\tvalidation_1-auc:0.870443\n",
      "[128]\tvalidation_0-auc:0.880911\tvalidation_1-auc:0.870901\n",
      "[129]\tvalidation_0-auc:0.881096\tvalidation_1-auc:0.87101\n",
      "[130]\tvalidation_0-auc:0.881384\tvalidation_1-auc:0.871265\n",
      "[131]\tvalidation_0-auc:0.881515\tvalidation_1-auc:0.871393\n",
      "[132]\tvalidation_0-auc:0.881546\tvalidation_1-auc:0.871395\n",
      "[133]\tvalidation_0-auc:0.881663\tvalidation_1-auc:0.871536\n",
      "[134]\tvalidation_0-auc:0.882035\tvalidation_1-auc:0.871891\n",
      "[135]\tvalidation_0-auc:0.882125\tvalidation_1-auc:0.871944\n",
      "[136]\tvalidation_0-auc:0.88237\tvalidation_1-auc:0.872151\n",
      "[137]\tvalidation_0-auc:0.882747\tvalidation_1-auc:0.872522\n",
      "[138]\tvalidation_0-auc:0.883005\tvalidation_1-auc:0.872717\n"
     ]
    },
    {
     "name": "stdout",
     "output_type": "stream",
     "text": [
      "[139]\tvalidation_0-auc:0.883246\tvalidation_1-auc:0.872925\n",
      "[140]\tvalidation_0-auc:0.883656\tvalidation_1-auc:0.873271\n",
      "[141]\tvalidation_0-auc:0.883715\tvalidation_1-auc:0.8733\n",
      "[142]\tvalidation_0-auc:0.883964\tvalidation_1-auc:0.873547\n",
      "[143]\tvalidation_0-auc:0.884215\tvalidation_1-auc:0.873748\n",
      "[144]\tvalidation_0-auc:0.884275\tvalidation_1-auc:0.87377\n",
      "[145]\tvalidation_0-auc:0.884675\tvalidation_1-auc:0.874157\n",
      "[146]\tvalidation_0-auc:0.884805\tvalidation_1-auc:0.874284\n",
      "[147]\tvalidation_0-auc:0.885067\tvalidation_1-auc:0.874498\n",
      "[148]\tvalidation_0-auc:0.885123\tvalidation_1-auc:0.874545\n",
      "[149]\tvalidation_0-auc:0.88522\tvalidation_1-auc:0.874602\n",
      "[150]\tvalidation_0-auc:0.885516\tvalidation_1-auc:0.874835\n",
      "[151]\tvalidation_0-auc:0.885609\tvalidation_1-auc:0.874899\n",
      "[152]\tvalidation_0-auc:0.885814\tvalidation_1-auc:0.87506\n",
      "[153]\tvalidation_0-auc:0.886054\tvalidation_1-auc:0.87527\n",
      "[154]\tvalidation_0-auc:0.886327\tvalidation_1-auc:0.875509\n",
      "[155]\tvalidation_0-auc:0.886476\tvalidation_1-auc:0.875655\n",
      "[156]\tvalidation_0-auc:0.886649\tvalidation_1-auc:0.875841\n",
      "[157]\tvalidation_0-auc:0.886762\tvalidation_1-auc:0.875979\n",
      "[158]\tvalidation_0-auc:0.886978\tvalidation_1-auc:0.876158\n",
      "[159]\tvalidation_0-auc:0.887204\tvalidation_1-auc:0.876352\n",
      "[160]\tvalidation_0-auc:0.887585\tvalidation_1-auc:0.876713\n",
      "[161]\tvalidation_0-auc:0.887665\tvalidation_1-auc:0.876841\n",
      "[162]\tvalidation_0-auc:0.887744\tvalidation_1-auc:0.87686\n",
      "[163]\tvalidation_0-auc:0.888044\tvalidation_1-auc:0.877106\n",
      "[164]\tvalidation_0-auc:0.888132\tvalidation_1-auc:0.877216\n",
      "[165]\tvalidation_0-auc:0.888277\tvalidation_1-auc:0.877292\n",
      "[166]\tvalidation_0-auc:0.888422\tvalidation_1-auc:0.877382\n",
      "[167]\tvalidation_0-auc:0.888452\tvalidation_1-auc:0.877408\n",
      "[168]\tvalidation_0-auc:0.888646\tvalidation_1-auc:0.87754\n",
      "[169]\tvalidation_0-auc:0.888851\tvalidation_1-auc:0.877697\n",
      "[170]\tvalidation_0-auc:0.889018\tvalidation_1-auc:0.877831\n",
      "[171]\tvalidation_0-auc:0.889143\tvalidation_1-auc:0.877973\n",
      "[172]\tvalidation_0-auc:0.889415\tvalidation_1-auc:0.878199\n",
      "[173]\tvalidation_0-auc:0.889641\tvalidation_1-auc:0.87837\n",
      "[174]\tvalidation_0-auc:0.889658\tvalidation_1-auc:0.878353\n",
      "[175]\tvalidation_0-auc:0.889777\tvalidation_1-auc:0.878473\n",
      "[176]\tvalidation_0-auc:0.889957\tvalidation_1-auc:0.878597\n",
      "[177]\tvalidation_0-auc:0.89008\tvalidation_1-auc:0.878687\n",
      "[178]\tvalidation_0-auc:0.890258\tvalidation_1-auc:0.878815\n",
      "[179]\tvalidation_0-auc:0.890426\tvalidation_1-auc:0.87896\n",
      "[180]\tvalidation_0-auc:0.890472\tvalidation_1-auc:0.87898\n",
      "[181]\tvalidation_0-auc:0.8905\tvalidation_1-auc:0.878964\n",
      "[182]\tvalidation_0-auc:0.890581\tvalidation_1-auc:0.879006\n",
      "[183]\tvalidation_0-auc:0.890637\tvalidation_1-auc:0.879074\n",
      "[184]\tvalidation_0-auc:0.890739\tvalidation_1-auc:0.879208\n",
      "[185]\tvalidation_0-auc:0.890801\tvalidation_1-auc:0.87922\n",
      "[186]\tvalidation_0-auc:0.89095\tvalidation_1-auc:0.879351\n",
      "[187]\tvalidation_0-auc:0.891232\tvalidation_1-auc:0.879581\n",
      "[188]\tvalidation_0-auc:0.891406\tvalidation_1-auc:0.879732\n",
      "[189]\tvalidation_0-auc:0.89164\tvalidation_1-auc:0.879907\n",
      "[190]\tvalidation_0-auc:0.891753\tvalidation_1-auc:0.879965\n",
      "[191]\tvalidation_0-auc:0.891885\tvalidation_1-auc:0.880069\n",
      "[192]\tvalidation_0-auc:0.891947\tvalidation_1-auc:0.88013\n",
      "[193]\tvalidation_0-auc:0.89207\tvalidation_1-auc:0.880259\n",
      "[194]\tvalidation_0-auc:0.892234\tvalidation_1-auc:0.880382\n",
      "[195]\tvalidation_0-auc:0.892383\tvalidation_1-auc:0.880507\n",
      "[196]\tvalidation_0-auc:0.892503\tvalidation_1-auc:0.880589\n",
      "[197]\tvalidation_0-auc:0.892541\tvalidation_1-auc:0.880567\n",
      "[198]\tvalidation_0-auc:0.892793\tvalidation_1-auc:0.880781\n",
      "[199]\tvalidation_0-auc:0.89296\tvalidation_1-auc:0.88095\n",
      "[200]\tvalidation_0-auc:0.893061\tvalidation_1-auc:0.88102\n",
      "[201]\tvalidation_0-auc:0.893185\tvalidation_1-auc:0.881114\n",
      "[202]\tvalidation_0-auc:0.893373\tvalidation_1-auc:0.881271\n",
      "[203]\tvalidation_0-auc:0.893462\tvalidation_1-auc:0.881352\n",
      "[204]\tvalidation_0-auc:0.893558\tvalidation_1-auc:0.88141\n",
      "[205]\tvalidation_0-auc:0.893711\tvalidation_1-auc:0.881504\n",
      "[206]\tvalidation_0-auc:0.893924\tvalidation_1-auc:0.881718\n",
      "[207]\tvalidation_0-auc:0.894094\tvalidation_1-auc:0.881848\n",
      "[208]\tvalidation_0-auc:0.89437\tvalidation_1-auc:0.882122\n",
      "[209]\tvalidation_0-auc:0.894409\tvalidation_1-auc:0.882123\n",
      "[210]\tvalidation_0-auc:0.894497\tvalidation_1-auc:0.88218\n",
      "[211]\tvalidation_0-auc:0.894489\tvalidation_1-auc:0.882187\n",
      "[212]\tvalidation_0-auc:0.894694\tvalidation_1-auc:0.882318\n",
      "[213]\tvalidation_0-auc:0.89476\tvalidation_1-auc:0.882391\n",
      "[214]\tvalidation_0-auc:0.894829\tvalidation_1-auc:0.882463\n",
      "[215]\tvalidation_0-auc:0.895013\tvalidation_1-auc:0.882609\n",
      "[216]\tvalidation_0-auc:0.895155\tvalidation_1-auc:0.882766\n",
      "[217]\tvalidation_0-auc:0.895159\tvalidation_1-auc:0.882813\n",
      "[218]\tvalidation_0-auc:0.895261\tvalidation_1-auc:0.882885\n",
      "[219]\tvalidation_0-auc:0.895319\tvalidation_1-auc:0.882892\n",
      "[220]\tvalidation_0-auc:0.895405\tvalidation_1-auc:0.882966\n",
      "[221]\tvalidation_0-auc:0.895392\tvalidation_1-auc:0.882963\n",
      "[222]\tvalidation_0-auc:0.895514\tvalidation_1-auc:0.883033\n",
      "[223]\tvalidation_0-auc:0.895622\tvalidation_1-auc:0.883143\n",
      "[224]\tvalidation_0-auc:0.895779\tvalidation_1-auc:0.883252\n",
      "[225]\tvalidation_0-auc:0.895871\tvalidation_1-auc:0.88331\n",
      "[226]\tvalidation_0-auc:0.895886\tvalidation_1-auc:0.883326\n",
      "[227]\tvalidation_0-auc:0.896012\tvalidation_1-auc:0.883424\n",
      "[228]\tvalidation_0-auc:0.89606\tvalidation_1-auc:0.883456\n",
      "[229]\tvalidation_0-auc:0.8961\tvalidation_1-auc:0.883484\n",
      "[230]\tvalidation_0-auc:0.896282\tvalidation_1-auc:0.883659\n",
      "[231]\tvalidation_0-auc:0.896453\tvalidation_1-auc:0.883807\n",
      "[232]\tvalidation_0-auc:0.896638\tvalidation_1-auc:0.883932\n",
      "[233]\tvalidation_0-auc:0.896844\tvalidation_1-auc:0.884083\n",
      "[234]\tvalidation_0-auc:0.896966\tvalidation_1-auc:0.884199\n",
      "[235]\tvalidation_0-auc:0.897063\tvalidation_1-auc:0.884238\n",
      "[236]\tvalidation_0-auc:0.897174\tvalidation_1-auc:0.884317\n",
      "[237]\tvalidation_0-auc:0.897226\tvalidation_1-auc:0.884351\n",
      "[238]\tvalidation_0-auc:0.897326\tvalidation_1-auc:0.884403\n",
      "[239]\tvalidation_0-auc:0.897307\tvalidation_1-auc:0.884372\n",
      "[240]\tvalidation_0-auc:0.897384\tvalidation_1-auc:0.884404\n",
      "[241]\tvalidation_0-auc:0.897452\tvalidation_1-auc:0.884472\n",
      "[242]\tvalidation_0-auc:0.897574\tvalidation_1-auc:0.884597\n",
      "[243]\tvalidation_0-auc:0.897685\tvalidation_1-auc:0.884678\n",
      "[244]\tvalidation_0-auc:0.897727\tvalidation_1-auc:0.884719\n",
      "[245]\tvalidation_0-auc:0.897925\tvalidation_1-auc:0.884922\n",
      "[246]\tvalidation_0-auc:0.897963\tvalidation_1-auc:0.884955\n",
      "[247]\tvalidation_0-auc:0.898065\tvalidation_1-auc:0.884993\n",
      "[248]\tvalidation_0-auc:0.898158\tvalidation_1-auc:0.885078\n",
      "[249]\tvalidation_0-auc:0.898238\tvalidation_1-auc:0.885148\n",
      "[250]\tvalidation_0-auc:0.898316\tvalidation_1-auc:0.885214\n",
      "[251]\tvalidation_0-auc:0.898392\tvalidation_1-auc:0.885255\n",
      "[252]\tvalidation_0-auc:0.89839\tvalidation_1-auc:0.885264\n",
      "[253]\tvalidation_0-auc:0.898583\tvalidation_1-auc:0.885423\n",
      "[254]\tvalidation_0-auc:0.898728\tvalidation_1-auc:0.885555\n",
      "[255]\tvalidation_0-auc:0.898804\tvalidation_1-auc:0.885623\n",
      "[256]\tvalidation_0-auc:0.898812\tvalidation_1-auc:0.885636\n",
      "[257]\tvalidation_0-auc:0.898869\tvalidation_1-auc:0.885708\n",
      "[258]\tvalidation_0-auc:0.899001\tvalidation_1-auc:0.885815\n",
      "[259]\tvalidation_0-auc:0.899072\tvalidation_1-auc:0.885877\n",
      "[260]\tvalidation_0-auc:0.899207\tvalidation_1-auc:0.885997\n",
      "[261]\tvalidation_0-auc:0.899195\tvalidation_1-auc:0.885997\n",
      "[262]\tvalidation_0-auc:0.899252\tvalidation_1-auc:0.886045\n",
      "[263]\tvalidation_0-auc:0.899333\tvalidation_1-auc:0.886104\n",
      "[264]\tvalidation_0-auc:0.899535\tvalidation_1-auc:0.886293\n",
      "[265]\tvalidation_0-auc:0.899534\tvalidation_1-auc:0.886281\n",
      "[266]\tvalidation_0-auc:0.89966\tvalidation_1-auc:0.886396\n",
      "[267]\tvalidation_0-auc:0.899771\tvalidation_1-auc:0.886478\n",
      "[268]\tvalidation_0-auc:0.899807\tvalidation_1-auc:0.886519\n",
      "[269]\tvalidation_0-auc:0.899929\tvalidation_1-auc:0.8866\n",
      "[270]\tvalidation_0-auc:0.899991\tvalidation_1-auc:0.886662\n",
      "[271]\tvalidation_0-auc:0.899966\tvalidation_1-auc:0.88664\n",
      "[272]\tvalidation_0-auc:0.899996\tvalidation_1-auc:0.886636\n",
      "[273]\tvalidation_0-auc:0.899987\tvalidation_1-auc:0.886628\n",
      "[274]\tvalidation_0-auc:0.900038\tvalidation_1-auc:0.886653\n",
      "[275]\tvalidation_0-auc:0.900159\tvalidation_1-auc:0.886735\n",
      "[276]\tvalidation_0-auc:0.900244\tvalidation_1-auc:0.886792\n",
      "[277]\tvalidation_0-auc:0.900402\tvalidation_1-auc:0.88692\n",
      "[278]\tvalidation_0-auc:0.900474\tvalidation_1-auc:0.886965\n",
      "[279]\tvalidation_0-auc:0.900628\tvalidation_1-auc:0.887092\n",
      "[280]\tvalidation_0-auc:0.900699\tvalidation_1-auc:0.887147\n"
     ]
    },
    {
     "name": "stdout",
     "output_type": "stream",
     "text": [
      "[281]\tvalidation_0-auc:0.90077\tvalidation_1-auc:0.887209\n",
      "[282]\tvalidation_0-auc:0.900868\tvalidation_1-auc:0.887309\n",
      "[283]\tvalidation_0-auc:0.900939\tvalidation_1-auc:0.88736\n",
      "[284]\tvalidation_0-auc:0.901021\tvalidation_1-auc:0.887421\n",
      "[285]\tvalidation_0-auc:0.901121\tvalidation_1-auc:0.887485\n",
      "[286]\tvalidation_0-auc:0.901152\tvalidation_1-auc:0.887512\n",
      "[287]\tvalidation_0-auc:0.901234\tvalidation_1-auc:0.887575\n",
      "[288]\tvalidation_0-auc:0.90125\tvalidation_1-auc:0.887569\n",
      "[289]\tvalidation_0-auc:0.901298\tvalidation_1-auc:0.887609\n",
      "[290]\tvalidation_0-auc:0.901394\tvalidation_1-auc:0.887682\n",
      "[291]\tvalidation_0-auc:0.901408\tvalidation_1-auc:0.887705\n",
      "[292]\tvalidation_0-auc:0.901501\tvalidation_1-auc:0.887768\n",
      "[293]\tvalidation_0-auc:0.901636\tvalidation_1-auc:0.887866\n",
      "[294]\tvalidation_0-auc:0.901719\tvalidation_1-auc:0.887941\n",
      "[295]\tvalidation_0-auc:0.901781\tvalidation_1-auc:0.888022\n",
      "[296]\tvalidation_0-auc:0.901884\tvalidation_1-auc:0.888095\n",
      "[297]\tvalidation_0-auc:0.901983\tvalidation_1-auc:0.888147\n",
      "[298]\tvalidation_0-auc:0.902045\tvalidation_1-auc:0.888193\n",
      "[299]\tvalidation_0-auc:0.90214\tvalidation_1-auc:0.888246\n",
      "[300]\tvalidation_0-auc:0.902177\tvalidation_1-auc:0.888281\n",
      "[301]\tvalidation_0-auc:0.902283\tvalidation_1-auc:0.888325\n",
      "[302]\tvalidation_0-auc:0.902392\tvalidation_1-auc:0.888419\n",
      "[303]\tvalidation_0-auc:0.902506\tvalidation_1-auc:0.888527\n",
      "[304]\tvalidation_0-auc:0.90255\tvalidation_1-auc:0.888553\n",
      "[305]\tvalidation_0-auc:0.902669\tvalidation_1-auc:0.88866\n",
      "[306]\tvalidation_0-auc:0.902729\tvalidation_1-auc:0.88869\n",
      "[307]\tvalidation_0-auc:0.902887\tvalidation_1-auc:0.888834\n",
      "[308]\tvalidation_0-auc:0.902994\tvalidation_1-auc:0.888911\n",
      "[309]\tvalidation_0-auc:0.90307\tvalidation_1-auc:0.888965\n",
      "[310]\tvalidation_0-auc:0.903145\tvalidation_1-auc:0.889032\n",
      "[311]\tvalidation_0-auc:0.903265\tvalidation_1-auc:0.889123\n",
      "[312]\tvalidation_0-auc:0.903337\tvalidation_1-auc:0.889199\n",
      "[313]\tvalidation_0-auc:0.903373\tvalidation_1-auc:0.88922\n",
      "[314]\tvalidation_0-auc:0.90341\tvalidation_1-auc:0.889271\n",
      "[315]\tvalidation_0-auc:0.903494\tvalidation_1-auc:0.889333\n",
      "[316]\tvalidation_0-auc:0.903514\tvalidation_1-auc:0.889326\n",
      "[317]\tvalidation_0-auc:0.903577\tvalidation_1-auc:0.889352\n",
      "[318]\tvalidation_0-auc:0.903599\tvalidation_1-auc:0.889382\n",
      "[319]\tvalidation_0-auc:0.903655\tvalidation_1-auc:0.88943\n",
      "[320]\tvalidation_0-auc:0.903666\tvalidation_1-auc:0.889436\n",
      "[321]\tvalidation_0-auc:0.903738\tvalidation_1-auc:0.889493\n",
      "[322]\tvalidation_0-auc:0.903788\tvalidation_1-auc:0.889534\n",
      "[323]\tvalidation_0-auc:0.903879\tvalidation_1-auc:0.889607\n",
      "[324]\tvalidation_0-auc:0.903994\tvalidation_1-auc:0.889707\n",
      "[325]\tvalidation_0-auc:0.90406\tvalidation_1-auc:0.889736\n",
      "[326]\tvalidation_0-auc:0.904122\tvalidation_1-auc:0.889783\n",
      "[327]\tvalidation_0-auc:0.904185\tvalidation_1-auc:0.889817\n",
      "[328]\tvalidation_0-auc:0.904237\tvalidation_1-auc:0.889846\n",
      "[329]\tvalidation_0-auc:0.90433\tvalidation_1-auc:0.889925\n",
      "[330]\tvalidation_0-auc:0.904396\tvalidation_1-auc:0.88995\n",
      "[331]\tvalidation_0-auc:0.904514\tvalidation_1-auc:0.890055\n",
      "[332]\tvalidation_0-auc:0.904595\tvalidation_1-auc:0.890113\n",
      "[333]\tvalidation_0-auc:0.904658\tvalidation_1-auc:0.890174\n",
      "[334]\tvalidation_0-auc:0.904701\tvalidation_1-auc:0.890195\n",
      "[335]\tvalidation_0-auc:0.904749\tvalidation_1-auc:0.890224\n",
      "[336]\tvalidation_0-auc:0.904792\tvalidation_1-auc:0.89027\n",
      "[337]\tvalidation_0-auc:0.904868\tvalidation_1-auc:0.890309\n",
      "[338]\tvalidation_0-auc:0.904932\tvalidation_1-auc:0.89037\n",
      "[339]\tvalidation_0-auc:0.904974\tvalidation_1-auc:0.890403\n",
      "[340]\tvalidation_0-auc:0.905034\tvalidation_1-auc:0.890433\n",
      "[341]\tvalidation_0-auc:0.905132\tvalidation_1-auc:0.890503\n",
      "[342]\tvalidation_0-auc:0.905166\tvalidation_1-auc:0.890551\n",
      "[343]\tvalidation_0-auc:0.905253\tvalidation_1-auc:0.890624\n",
      "[344]\tvalidation_0-auc:0.905294\tvalidation_1-auc:0.890635\n",
      "[345]\tvalidation_0-auc:0.905355\tvalidation_1-auc:0.890695\n",
      "[346]\tvalidation_0-auc:0.905327\tvalidation_1-auc:0.890667\n",
      "[347]\tvalidation_0-auc:0.905394\tvalidation_1-auc:0.890719\n",
      "[348]\tvalidation_0-auc:0.90542\tvalidation_1-auc:0.890739\n",
      "[349]\tvalidation_0-auc:0.905432\tvalidation_1-auc:0.890732\n",
      "[350]\tvalidation_0-auc:0.905511\tvalidation_1-auc:0.890776\n",
      "[351]\tvalidation_0-auc:0.905548\tvalidation_1-auc:0.890802\n",
      "[352]\tvalidation_0-auc:0.905646\tvalidation_1-auc:0.890893\n",
      "[353]\tvalidation_0-auc:0.905664\tvalidation_1-auc:0.890922\n",
      "[354]\tvalidation_0-auc:0.905709\tvalidation_1-auc:0.890953\n",
      "[355]\tvalidation_0-auc:0.905806\tvalidation_1-auc:0.891024\n",
      "[356]\tvalidation_0-auc:0.90582\tvalidation_1-auc:0.891033\n",
      "[357]\tvalidation_0-auc:0.905831\tvalidation_1-auc:0.891022\n",
      "[358]\tvalidation_0-auc:0.905891\tvalidation_1-auc:0.891049\n",
      "[359]\tvalidation_0-auc:0.905925\tvalidation_1-auc:0.891083\n",
      "[360]\tvalidation_0-auc:0.90595\tvalidation_1-auc:0.891097\n",
      "[361]\tvalidation_0-auc:0.906012\tvalidation_1-auc:0.891136\n",
      "[362]\tvalidation_0-auc:0.906092\tvalidation_1-auc:0.891217\n",
      "[363]\tvalidation_0-auc:0.906155\tvalidation_1-auc:0.891271\n",
      "[364]\tvalidation_0-auc:0.906176\tvalidation_1-auc:0.891285\n",
      "[365]\tvalidation_0-auc:0.906283\tvalidation_1-auc:0.891366\n",
      "[366]\tvalidation_0-auc:0.906314\tvalidation_1-auc:0.891387\n",
      "[367]\tvalidation_0-auc:0.906439\tvalidation_1-auc:0.891511\n",
      "[368]\tvalidation_0-auc:0.906486\tvalidation_1-auc:0.891563\n",
      "[369]\tvalidation_0-auc:0.906531\tvalidation_1-auc:0.891609\n",
      "[370]\tvalidation_0-auc:0.906623\tvalidation_1-auc:0.891677\n",
      "[371]\tvalidation_0-auc:0.906681\tvalidation_1-auc:0.891718\n",
      "[372]\tvalidation_0-auc:0.906706\tvalidation_1-auc:0.891737\n",
      "[373]\tvalidation_0-auc:0.906729\tvalidation_1-auc:0.891748\n",
      "[374]\tvalidation_0-auc:0.906784\tvalidation_1-auc:0.891774\n",
      "[375]\tvalidation_0-auc:0.906848\tvalidation_1-auc:0.891825\n",
      "[376]\tvalidation_0-auc:0.906875\tvalidation_1-auc:0.891821\n",
      "[377]\tvalidation_0-auc:0.906937\tvalidation_1-auc:0.891869\n",
      "[378]\tvalidation_0-auc:0.90699\tvalidation_1-auc:0.891903\n",
      "[379]\tvalidation_0-auc:0.907107\tvalidation_1-auc:0.892014\n",
      "[380]\tvalidation_0-auc:0.907115\tvalidation_1-auc:0.892036\n",
      "[381]\tvalidation_0-auc:0.907115\tvalidation_1-auc:0.892012\n",
      "[382]\tvalidation_0-auc:0.907165\tvalidation_1-auc:0.89205\n",
      "[383]\tvalidation_0-auc:0.907266\tvalidation_1-auc:0.892131\n",
      "[384]\tvalidation_0-auc:0.907355\tvalidation_1-auc:0.892184\n",
      "[385]\tvalidation_0-auc:0.907364\tvalidation_1-auc:0.892203\n",
      "[386]\tvalidation_0-auc:0.907382\tvalidation_1-auc:0.892211\n",
      "[387]\tvalidation_0-auc:0.907382\tvalidation_1-auc:0.892218\n",
      "[388]\tvalidation_0-auc:0.907428\tvalidation_1-auc:0.892263\n",
      "[389]\tvalidation_0-auc:0.907482\tvalidation_1-auc:0.892311\n",
      "[390]\tvalidation_0-auc:0.907533\tvalidation_1-auc:0.892361\n",
      "[391]\tvalidation_0-auc:0.907563\tvalidation_1-auc:0.892386\n",
      "[392]\tvalidation_0-auc:0.907655\tvalidation_1-auc:0.892438\n",
      "[393]\tvalidation_0-auc:0.90766\tvalidation_1-auc:0.892432\n",
      "[394]\tvalidation_0-auc:0.907763\tvalidation_1-auc:0.892495\n",
      "[395]\tvalidation_0-auc:0.907789\tvalidation_1-auc:0.892503\n",
      "[396]\tvalidation_0-auc:0.907867\tvalidation_1-auc:0.892544\n",
      "[397]\tvalidation_0-auc:0.907915\tvalidation_1-auc:0.892577\n",
      "[398]\tvalidation_0-auc:0.907963\tvalidation_1-auc:0.892623\n",
      "[399]\tvalidation_0-auc:0.90806\tvalidation_1-auc:0.8927\n",
      "[400]\tvalidation_0-auc:0.908101\tvalidation_1-auc:0.89271\n",
      "[401]\tvalidation_0-auc:0.908122\tvalidation_1-auc:0.89272\n",
      "[402]\tvalidation_0-auc:0.908206\tvalidation_1-auc:0.892797\n",
      "[403]\tvalidation_0-auc:0.908299\tvalidation_1-auc:0.892865\n",
      "[404]\tvalidation_0-auc:0.908292\tvalidation_1-auc:0.892863\n",
      "[405]\tvalidation_0-auc:0.908356\tvalidation_1-auc:0.892928\n",
      "[406]\tvalidation_0-auc:0.908449\tvalidation_1-auc:0.893018\n",
      "[407]\tvalidation_0-auc:0.908506\tvalidation_1-auc:0.893058\n",
      "[408]\tvalidation_0-auc:0.908525\tvalidation_1-auc:0.893082\n",
      "[409]\tvalidation_0-auc:0.908597\tvalidation_1-auc:0.893141\n",
      "[410]\tvalidation_0-auc:0.908592\tvalidation_1-auc:0.893148\n",
      "[411]\tvalidation_0-auc:0.908644\tvalidation_1-auc:0.893178\n",
      "[412]\tvalidation_0-auc:0.908644\tvalidation_1-auc:0.893196\n",
      "[413]\tvalidation_0-auc:0.908716\tvalidation_1-auc:0.893243\n",
      "[414]\tvalidation_0-auc:0.908706\tvalidation_1-auc:0.893222\n",
      "[415]\tvalidation_0-auc:0.908747\tvalidation_1-auc:0.893265\n",
      "[416]\tvalidation_0-auc:0.908796\tvalidation_1-auc:0.893287\n",
      "[417]\tvalidation_0-auc:0.908862\tvalidation_1-auc:0.893356\n",
      "[418]\tvalidation_0-auc:0.908917\tvalidation_1-auc:0.893383\n",
      "[419]\tvalidation_0-auc:0.908947\tvalidation_1-auc:0.893409\n",
      "[420]\tvalidation_0-auc:0.908971\tvalidation_1-auc:0.893394\n",
      "[421]\tvalidation_0-auc:0.909006\tvalidation_1-auc:0.893411\n",
      "[422]\tvalidation_0-auc:0.909049\tvalidation_1-auc:0.89343\n"
     ]
    },
    {
     "name": "stdout",
     "output_type": "stream",
     "text": [
      "[423]\tvalidation_0-auc:0.909076\tvalidation_1-auc:0.893414\n",
      "[424]\tvalidation_0-auc:0.909152\tvalidation_1-auc:0.893464\n",
      "[425]\tvalidation_0-auc:0.909197\tvalidation_1-auc:0.89351\n",
      "[426]\tvalidation_0-auc:0.909259\tvalidation_1-auc:0.893557\n",
      "[427]\tvalidation_0-auc:0.909319\tvalidation_1-auc:0.893603\n",
      "[428]\tvalidation_0-auc:0.909332\tvalidation_1-auc:0.893619\n",
      "[429]\tvalidation_0-auc:0.909365\tvalidation_1-auc:0.893628\n",
      "[430]\tvalidation_0-auc:0.909424\tvalidation_1-auc:0.89366\n",
      "[431]\tvalidation_0-auc:0.909463\tvalidation_1-auc:0.893692\n",
      "[432]\tvalidation_0-auc:0.909506\tvalidation_1-auc:0.89373\n",
      "[433]\tvalidation_0-auc:0.909548\tvalidation_1-auc:0.893766\n",
      "[434]\tvalidation_0-auc:0.909629\tvalidation_1-auc:0.893827\n",
      "[435]\tvalidation_0-auc:0.909662\tvalidation_1-auc:0.893851\n",
      "[436]\tvalidation_0-auc:0.909742\tvalidation_1-auc:0.893911\n",
      "[437]\tvalidation_0-auc:0.909786\tvalidation_1-auc:0.893946\n",
      "[438]\tvalidation_0-auc:0.90983\tvalidation_1-auc:0.893984\n",
      "[439]\tvalidation_0-auc:0.909887\tvalidation_1-auc:0.894025\n",
      "[440]\tvalidation_0-auc:0.909922\tvalidation_1-auc:0.894029\n",
      "[441]\tvalidation_0-auc:0.909934\tvalidation_1-auc:0.894032\n",
      "[442]\tvalidation_0-auc:0.909942\tvalidation_1-auc:0.894037\n",
      "[443]\tvalidation_0-auc:0.909998\tvalidation_1-auc:0.894084\n",
      "[444]\tvalidation_0-auc:0.910037\tvalidation_1-auc:0.89411\n",
      "[445]\tvalidation_0-auc:0.910075\tvalidation_1-auc:0.894161\n",
      "[446]\tvalidation_0-auc:0.910138\tvalidation_1-auc:0.894211\n",
      "[447]\tvalidation_0-auc:0.910192\tvalidation_1-auc:0.89423\n",
      "[448]\tvalidation_0-auc:0.910186\tvalidation_1-auc:0.894221\n",
      "[449]\tvalidation_0-auc:0.910251\tvalidation_1-auc:0.894282\n",
      "[450]\tvalidation_0-auc:0.910292\tvalidation_1-auc:0.894334\n",
      "[451]\tvalidation_0-auc:0.910327\tvalidation_1-auc:0.894321\n",
      "[452]\tvalidation_0-auc:0.910381\tvalidation_1-auc:0.894344\n",
      "[453]\tvalidation_0-auc:0.910387\tvalidation_1-auc:0.894357\n",
      "[454]\tvalidation_0-auc:0.910452\tvalidation_1-auc:0.89442\n",
      "[455]\tvalidation_0-auc:0.910496\tvalidation_1-auc:0.89446\n",
      "[456]\tvalidation_0-auc:0.910569\tvalidation_1-auc:0.894517\n",
      "[457]\tvalidation_0-auc:0.910585\tvalidation_1-auc:0.894521\n",
      "[458]\tvalidation_0-auc:0.910663\tvalidation_1-auc:0.894606\n",
      "[459]\tvalidation_0-auc:0.910659\tvalidation_1-auc:0.894618\n",
      "[460]\tvalidation_0-auc:0.910732\tvalidation_1-auc:0.894652\n",
      "[461]\tvalidation_0-auc:0.910741\tvalidation_1-auc:0.894676\n",
      "[462]\tvalidation_0-auc:0.910779\tvalidation_1-auc:0.894709\n",
      "[463]\tvalidation_0-auc:0.910816\tvalidation_1-auc:0.894745\n",
      "[464]\tvalidation_0-auc:0.910898\tvalidation_1-auc:0.894818\n",
      "[465]\tvalidation_0-auc:0.91095\tvalidation_1-auc:0.894849\n",
      "[466]\tvalidation_0-auc:0.91097\tvalidation_1-auc:0.894866\n",
      "[467]\tvalidation_0-auc:0.911003\tvalidation_1-auc:0.894889\n",
      "[468]\tvalidation_0-auc:0.911033\tvalidation_1-auc:0.894924\n",
      "[469]\tvalidation_0-auc:0.911082\tvalidation_1-auc:0.89495\n",
      "[470]\tvalidation_0-auc:0.911179\tvalidation_1-auc:0.895043\n",
      "[471]\tvalidation_0-auc:0.911222\tvalidation_1-auc:0.895055\n",
      "[472]\tvalidation_0-auc:0.911239\tvalidation_1-auc:0.895055\n",
      "[473]\tvalidation_0-auc:0.911283\tvalidation_1-auc:0.89509\n",
      "[474]\tvalidation_0-auc:0.911297\tvalidation_1-auc:0.895103\n",
      "[475]\tvalidation_0-auc:0.911324\tvalidation_1-auc:0.89513\n",
      "[476]\tvalidation_0-auc:0.911343\tvalidation_1-auc:0.895142\n",
      "[477]\tvalidation_0-auc:0.9114\tvalidation_1-auc:0.895195\n",
      "[478]\tvalidation_0-auc:0.911442\tvalidation_1-auc:0.89522\n",
      "[479]\tvalidation_0-auc:0.911513\tvalidation_1-auc:0.895267\n",
      "[480]\tvalidation_0-auc:0.911596\tvalidation_1-auc:0.89533\n",
      "[481]\tvalidation_0-auc:0.91168\tvalidation_1-auc:0.89537\n",
      "[482]\tvalidation_0-auc:0.911718\tvalidation_1-auc:0.895406\n",
      "[483]\tvalidation_0-auc:0.91176\tvalidation_1-auc:0.895441\n",
      "[484]\tvalidation_0-auc:0.911769\tvalidation_1-auc:0.895435\n",
      "[485]\tvalidation_0-auc:0.911763\tvalidation_1-auc:0.895425\n",
      "[486]\tvalidation_0-auc:0.91183\tvalidation_1-auc:0.895489\n",
      "[487]\tvalidation_0-auc:0.91186\tvalidation_1-auc:0.895508\n",
      "[488]\tvalidation_0-auc:0.911888\tvalidation_1-auc:0.895525\n",
      "[489]\tvalidation_0-auc:0.911916\tvalidation_1-auc:0.895558\n",
      "[490]\tvalidation_0-auc:0.91194\tvalidation_1-auc:0.895564\n",
      "[491]\tvalidation_0-auc:0.911993\tvalidation_1-auc:0.895629\n",
      "[492]\tvalidation_0-auc:0.912091\tvalidation_1-auc:0.895694\n",
      "[493]\tvalidation_0-auc:0.912135\tvalidation_1-auc:0.895715\n",
      "[494]\tvalidation_0-auc:0.912161\tvalidation_1-auc:0.895736\n",
      "[495]\tvalidation_0-auc:0.912231\tvalidation_1-auc:0.895796\n",
      "[496]\tvalidation_0-auc:0.912285\tvalidation_1-auc:0.895828\n",
      "[497]\tvalidation_0-auc:0.912304\tvalidation_1-auc:0.895819\n",
      "[498]\tvalidation_0-auc:0.912318\tvalidation_1-auc:0.895834\n",
      "[499]\tvalidation_0-auc:0.912366\tvalidation_1-auc:0.895892\n",
      "[500]\tvalidation_0-auc:0.912393\tvalidation_1-auc:0.895902\n",
      "[501]\tvalidation_0-auc:0.91245\tvalidation_1-auc:0.895939\n",
      "[502]\tvalidation_0-auc:0.912506\tvalidation_1-auc:0.895965\n",
      "[503]\tvalidation_0-auc:0.912531\tvalidation_1-auc:0.895987\n",
      "[504]\tvalidation_0-auc:0.912551\tvalidation_1-auc:0.895995\n",
      "[505]\tvalidation_0-auc:0.912589\tvalidation_1-auc:0.896023\n",
      "[506]\tvalidation_0-auc:0.912646\tvalidation_1-auc:0.896087\n",
      "[507]\tvalidation_0-auc:0.912687\tvalidation_1-auc:0.896114\n",
      "[508]\tvalidation_0-auc:0.912696\tvalidation_1-auc:0.896119\n",
      "[509]\tvalidation_0-auc:0.912688\tvalidation_1-auc:0.896118\n",
      "[510]\tvalidation_0-auc:0.912738\tvalidation_1-auc:0.896161\n",
      "[511]\tvalidation_0-auc:0.912756\tvalidation_1-auc:0.896179\n",
      "[512]\tvalidation_0-auc:0.912797\tvalidation_1-auc:0.896194\n",
      "[513]\tvalidation_0-auc:0.912831\tvalidation_1-auc:0.8962\n",
      "[514]\tvalidation_0-auc:0.912866\tvalidation_1-auc:0.896241\n",
      "[515]\tvalidation_0-auc:0.912914\tvalidation_1-auc:0.896286\n",
      "[516]\tvalidation_0-auc:0.912937\tvalidation_1-auc:0.896301\n",
      "[517]\tvalidation_0-auc:0.912999\tvalidation_1-auc:0.89634\n",
      "[518]\tvalidation_0-auc:0.91304\tvalidation_1-auc:0.896388\n",
      "[519]\tvalidation_0-auc:0.913062\tvalidation_1-auc:0.896408\n",
      "[520]\tvalidation_0-auc:0.913064\tvalidation_1-auc:0.896399\n",
      "[521]\tvalidation_0-auc:0.913102\tvalidation_1-auc:0.896413\n",
      "[522]\tvalidation_0-auc:0.913158\tvalidation_1-auc:0.89645\n",
      "[523]\tvalidation_0-auc:0.913221\tvalidation_1-auc:0.896487\n",
      "[524]\tvalidation_0-auc:0.913262\tvalidation_1-auc:0.896511\n",
      "[525]\tvalidation_0-auc:0.913268\tvalidation_1-auc:0.896515\n",
      "[526]\tvalidation_0-auc:0.913285\tvalidation_1-auc:0.896514\n",
      "[527]\tvalidation_0-auc:0.913342\tvalidation_1-auc:0.896553\n",
      "[528]\tvalidation_0-auc:0.913356\tvalidation_1-auc:0.896561\n",
      "[529]\tvalidation_0-auc:0.913416\tvalidation_1-auc:0.896582\n",
      "[530]\tvalidation_0-auc:0.913432\tvalidation_1-auc:0.896585\n",
      "[531]\tvalidation_0-auc:0.913472\tvalidation_1-auc:0.896608\n",
      "[532]\tvalidation_0-auc:0.913516\tvalidation_1-auc:0.896638\n",
      "[533]\tvalidation_0-auc:0.913541\tvalidation_1-auc:0.896654\n",
      "[534]\tvalidation_0-auc:0.913566\tvalidation_1-auc:0.896663\n",
      "[535]\tvalidation_0-auc:0.913641\tvalidation_1-auc:0.896723\n",
      "[536]\tvalidation_0-auc:0.91366\tvalidation_1-auc:0.896739\n",
      "[537]\tvalidation_0-auc:0.913668\tvalidation_1-auc:0.896735\n",
      "[538]\tvalidation_0-auc:0.913708\tvalidation_1-auc:0.896763\n",
      "[539]\tvalidation_0-auc:0.913736\tvalidation_1-auc:0.896797\n",
      "[540]\tvalidation_0-auc:0.913782\tvalidation_1-auc:0.896811\n",
      "[541]\tvalidation_0-auc:0.91382\tvalidation_1-auc:0.896829\n",
      "[542]\tvalidation_0-auc:0.91386\tvalidation_1-auc:0.896852\n",
      "[543]\tvalidation_0-auc:0.913915\tvalidation_1-auc:0.896875\n",
      "[544]\tvalidation_0-auc:0.913938\tvalidation_1-auc:0.896892\n",
      "[545]\tvalidation_0-auc:0.913954\tvalidation_1-auc:0.896927\n",
      "[546]\tvalidation_0-auc:0.913979\tvalidation_1-auc:0.896956\n",
      "[547]\tvalidation_0-auc:0.914024\tvalidation_1-auc:0.896982\n",
      "[548]\tvalidation_0-auc:0.914056\tvalidation_1-auc:0.896995\n",
      "[549]\tvalidation_0-auc:0.914064\tvalidation_1-auc:0.896984\n",
      "[550]\tvalidation_0-auc:0.914103\tvalidation_1-auc:0.897014\n",
      "[551]\tvalidation_0-auc:0.914129\tvalidation_1-auc:0.897038\n",
      "[552]\tvalidation_0-auc:0.914149\tvalidation_1-auc:0.897046\n",
      "[553]\tvalidation_0-auc:0.914158\tvalidation_1-auc:0.897056\n",
      "[554]\tvalidation_0-auc:0.91418\tvalidation_1-auc:0.897069\n",
      "[555]\tvalidation_0-auc:0.914212\tvalidation_1-auc:0.897102\n",
      "[556]\tvalidation_0-auc:0.914241\tvalidation_1-auc:0.897113\n",
      "[557]\tvalidation_0-auc:0.914262\tvalidation_1-auc:0.897139\n",
      "[558]\tvalidation_0-auc:0.914265\tvalidation_1-auc:0.89713\n",
      "[559]\tvalidation_0-auc:0.9143\tvalidation_1-auc:0.897169\n",
      "[560]\tvalidation_0-auc:0.914371\tvalidation_1-auc:0.89721\n",
      "[561]\tvalidation_0-auc:0.914397\tvalidation_1-auc:0.897228\n",
      "[562]\tvalidation_0-auc:0.914444\tvalidation_1-auc:0.897242\n",
      "[563]\tvalidation_0-auc:0.914492\tvalidation_1-auc:0.897259\n",
      "[564]\tvalidation_0-auc:0.91454\tvalidation_1-auc:0.897288\n"
     ]
    },
    {
     "name": "stdout",
     "output_type": "stream",
     "text": [
      "[565]\tvalidation_0-auc:0.914577\tvalidation_1-auc:0.897308\n",
      "[566]\tvalidation_0-auc:0.914613\tvalidation_1-auc:0.897331\n",
      "[567]\tvalidation_0-auc:0.91463\tvalidation_1-auc:0.897339\n",
      "[568]\tvalidation_0-auc:0.914659\tvalidation_1-auc:0.897362\n",
      "[569]\tvalidation_0-auc:0.914663\tvalidation_1-auc:0.897367\n",
      "[570]\tvalidation_0-auc:0.914685\tvalidation_1-auc:0.897373\n",
      "[571]\tvalidation_0-auc:0.914723\tvalidation_1-auc:0.897402\n",
      "[572]\tvalidation_0-auc:0.914756\tvalidation_1-auc:0.897401\n",
      "[573]\tvalidation_0-auc:0.914785\tvalidation_1-auc:0.897418\n",
      "[574]\tvalidation_0-auc:0.91479\tvalidation_1-auc:0.897423\n",
      "[575]\tvalidation_0-auc:0.914861\tvalidation_1-auc:0.897489\n",
      "[576]\tvalidation_0-auc:0.914873\tvalidation_1-auc:0.897497\n",
      "[577]\tvalidation_0-auc:0.91492\tvalidation_1-auc:0.897537\n",
      "[578]\tvalidation_0-auc:0.914978\tvalidation_1-auc:0.89757\n",
      "[579]\tvalidation_0-auc:0.915007\tvalidation_1-auc:0.897579\n",
      "[580]\tvalidation_0-auc:0.91504\tvalidation_1-auc:0.897605\n",
      "[581]\tvalidation_0-auc:0.915078\tvalidation_1-auc:0.897627\n",
      "[582]\tvalidation_0-auc:0.915102\tvalidation_1-auc:0.89764\n",
      "[583]\tvalidation_0-auc:0.915141\tvalidation_1-auc:0.897678\n",
      "[584]\tvalidation_0-auc:0.91516\tvalidation_1-auc:0.897695\n",
      "[585]\tvalidation_0-auc:0.915208\tvalidation_1-auc:0.897738\n",
      "[586]\tvalidation_0-auc:0.915212\tvalidation_1-auc:0.897743\n",
      "[587]\tvalidation_0-auc:0.915224\tvalidation_1-auc:0.897747\n",
      "[588]\tvalidation_0-auc:0.915241\tvalidation_1-auc:0.897744\n",
      "[589]\tvalidation_0-auc:0.91526\tvalidation_1-auc:0.897746\n",
      "[590]\tvalidation_0-auc:0.91529\tvalidation_1-auc:0.897767\n",
      "[591]\tvalidation_0-auc:0.915339\tvalidation_1-auc:0.89781\n",
      "[592]\tvalidation_0-auc:0.915377\tvalidation_1-auc:0.897834\n",
      "[593]\tvalidation_0-auc:0.915388\tvalidation_1-auc:0.897847\n",
      "[594]\tvalidation_0-auc:0.915414\tvalidation_1-auc:0.897882\n",
      "[595]\tvalidation_0-auc:0.915426\tvalidation_1-auc:0.897896\n",
      "[596]\tvalidation_0-auc:0.915462\tvalidation_1-auc:0.897902\n",
      "[597]\tvalidation_0-auc:0.915457\tvalidation_1-auc:0.897901\n",
      "[598]\tvalidation_0-auc:0.915486\tvalidation_1-auc:0.897928\n",
      "[599]\tvalidation_0-auc:0.915518\tvalidation_1-auc:0.897964\n",
      "[600]\tvalidation_0-auc:0.915538\tvalidation_1-auc:0.897971\n",
      "[601]\tvalidation_0-auc:0.915556\tvalidation_1-auc:0.897979\n",
      "[602]\tvalidation_0-auc:0.915584\tvalidation_1-auc:0.897992\n",
      "[603]\tvalidation_0-auc:0.915597\tvalidation_1-auc:0.898004\n",
      "[604]\tvalidation_0-auc:0.915621\tvalidation_1-auc:0.898008\n",
      "[605]\tvalidation_0-auc:0.915625\tvalidation_1-auc:0.898\n",
      "[606]\tvalidation_0-auc:0.91567\tvalidation_1-auc:0.898026\n",
      "[607]\tvalidation_0-auc:0.915712\tvalidation_1-auc:0.898047\n",
      "[608]\tvalidation_0-auc:0.915741\tvalidation_1-auc:0.898055\n",
      "[609]\tvalidation_0-auc:0.915768\tvalidation_1-auc:0.89807\n",
      "[610]\tvalidation_0-auc:0.915804\tvalidation_1-auc:0.898099\n",
      "[611]\tvalidation_0-auc:0.915835\tvalidation_1-auc:0.898113\n",
      "[612]\tvalidation_0-auc:0.91583\tvalidation_1-auc:0.898089\n",
      "[613]\tvalidation_0-auc:0.915868\tvalidation_1-auc:0.898112\n",
      "[614]\tvalidation_0-auc:0.915923\tvalidation_1-auc:0.89813\n",
      "[615]\tvalidation_0-auc:0.915945\tvalidation_1-auc:0.898153\n",
      "[616]\tvalidation_0-auc:0.915993\tvalidation_1-auc:0.898194\n",
      "[617]\tvalidation_0-auc:0.916032\tvalidation_1-auc:0.898215\n",
      "[618]\tvalidation_0-auc:0.916045\tvalidation_1-auc:0.898239\n",
      "[619]\tvalidation_0-auc:0.916066\tvalidation_1-auc:0.898257\n",
      "[620]\tvalidation_0-auc:0.916063\tvalidation_1-auc:0.898254\n",
      "[621]\tvalidation_0-auc:0.916099\tvalidation_1-auc:0.898267\n",
      "[622]\tvalidation_0-auc:0.916134\tvalidation_1-auc:0.898272\n",
      "[623]\tvalidation_0-auc:0.916143\tvalidation_1-auc:0.898283\n",
      "[624]\tvalidation_0-auc:0.916165\tvalidation_1-auc:0.898325\n",
      "[625]\tvalidation_0-auc:0.916189\tvalidation_1-auc:0.898332\n",
      "[626]\tvalidation_0-auc:0.916198\tvalidation_1-auc:0.898351\n",
      "[627]\tvalidation_0-auc:0.916242\tvalidation_1-auc:0.898377\n",
      "[628]\tvalidation_0-auc:0.916263\tvalidation_1-auc:0.898409\n",
      "[629]\tvalidation_0-auc:0.916303\tvalidation_1-auc:0.898436\n",
      "[630]\tvalidation_0-auc:0.916329\tvalidation_1-auc:0.898457\n",
      "[631]\tvalidation_0-auc:0.916354\tvalidation_1-auc:0.898486\n",
      "[632]\tvalidation_0-auc:0.916394\tvalidation_1-auc:0.898514\n",
      "[633]\tvalidation_0-auc:0.916399\tvalidation_1-auc:0.898514\n",
      "[634]\tvalidation_0-auc:0.916407\tvalidation_1-auc:0.898522\n",
      "[635]\tvalidation_0-auc:0.916411\tvalidation_1-auc:0.898512\n",
      "[636]\tvalidation_0-auc:0.916441\tvalidation_1-auc:0.898533\n",
      "[637]\tvalidation_0-auc:0.916489\tvalidation_1-auc:0.898552\n",
      "[638]\tvalidation_0-auc:0.9165\tvalidation_1-auc:0.898563\n",
      "[639]\tvalidation_0-auc:0.916548\tvalidation_1-auc:0.898614\n",
      "[640]\tvalidation_0-auc:0.916606\tvalidation_1-auc:0.898667\n",
      "[641]\tvalidation_0-auc:0.916638\tvalidation_1-auc:0.898696\n",
      "[642]\tvalidation_0-auc:0.916629\tvalidation_1-auc:0.898685\n",
      "[643]\tvalidation_0-auc:0.916658\tvalidation_1-auc:0.898695\n",
      "[644]\tvalidation_0-auc:0.916668\tvalidation_1-auc:0.898703\n",
      "[645]\tvalidation_0-auc:0.916665\tvalidation_1-auc:0.898705\n",
      "[646]\tvalidation_0-auc:0.916698\tvalidation_1-auc:0.89872\n",
      "[647]\tvalidation_0-auc:0.91673\tvalidation_1-auc:0.898746\n",
      "[648]\tvalidation_0-auc:0.916746\tvalidation_1-auc:0.898762\n",
      "[649]\tvalidation_0-auc:0.916773\tvalidation_1-auc:0.898769\n",
      "[650]\tvalidation_0-auc:0.9168\tvalidation_1-auc:0.898789\n",
      "[651]\tvalidation_0-auc:0.91683\tvalidation_1-auc:0.898819\n",
      "[652]\tvalidation_0-auc:0.916856\tvalidation_1-auc:0.898822\n",
      "[653]\tvalidation_0-auc:0.916881\tvalidation_1-auc:0.89884\n",
      "[654]\tvalidation_0-auc:0.916896\tvalidation_1-auc:0.898853\n",
      "[655]\tvalidation_0-auc:0.916911\tvalidation_1-auc:0.898868\n",
      "[656]\tvalidation_0-auc:0.916943\tvalidation_1-auc:0.898883\n",
      "[657]\tvalidation_0-auc:0.916966\tvalidation_1-auc:0.898907\n",
      "[658]\tvalidation_0-auc:0.917006\tvalidation_1-auc:0.898928\n",
      "[659]\tvalidation_0-auc:0.917032\tvalidation_1-auc:0.898933\n",
      "[660]\tvalidation_0-auc:0.917038\tvalidation_1-auc:0.898931\n",
      "[661]\tvalidation_0-auc:0.917065\tvalidation_1-auc:0.898952\n",
      "[662]\tvalidation_0-auc:0.917072\tvalidation_1-auc:0.89897\n",
      "[663]\tvalidation_0-auc:0.917089\tvalidation_1-auc:0.898978\n",
      "[664]\tvalidation_0-auc:0.917118\tvalidation_1-auc:0.898993\n",
      "[665]\tvalidation_0-auc:0.917139\tvalidation_1-auc:0.89901\n",
      "[666]\tvalidation_0-auc:0.917141\tvalidation_1-auc:0.899014\n",
      "[667]\tvalidation_0-auc:0.917155\tvalidation_1-auc:0.899033\n",
      "[668]\tvalidation_0-auc:0.917159\tvalidation_1-auc:0.899032\n",
      "[669]\tvalidation_0-auc:0.917176\tvalidation_1-auc:0.899042\n",
      "[670]\tvalidation_0-auc:0.917192\tvalidation_1-auc:0.899053\n",
      "[671]\tvalidation_0-auc:0.917199\tvalidation_1-auc:0.899058\n",
      "[672]\tvalidation_0-auc:0.917229\tvalidation_1-auc:0.899074\n",
      "[673]\tvalidation_0-auc:0.917226\tvalidation_1-auc:0.899075\n",
      "[674]\tvalidation_0-auc:0.917263\tvalidation_1-auc:0.899101\n",
      "[675]\tvalidation_0-auc:0.917275\tvalidation_1-auc:0.899125\n",
      "[676]\tvalidation_0-auc:0.917297\tvalidation_1-auc:0.899145\n",
      "[677]\tvalidation_0-auc:0.91735\tvalidation_1-auc:0.899193\n",
      "[678]\tvalidation_0-auc:0.917387\tvalidation_1-auc:0.899231\n",
      "[679]\tvalidation_0-auc:0.917427\tvalidation_1-auc:0.899252\n",
      "[680]\tvalidation_0-auc:0.91745\tvalidation_1-auc:0.899271\n",
      "[681]\tvalidation_0-auc:0.917488\tvalidation_1-auc:0.899293\n",
      "[682]\tvalidation_0-auc:0.917501\tvalidation_1-auc:0.8993\n",
      "[683]\tvalidation_0-auc:0.917522\tvalidation_1-auc:0.899319\n",
      "[684]\tvalidation_0-auc:0.917524\tvalidation_1-auc:0.899318\n",
      "[685]\tvalidation_0-auc:0.917536\tvalidation_1-auc:0.899327\n",
      "[686]\tvalidation_0-auc:0.917539\tvalidation_1-auc:0.899325\n",
      "[687]\tvalidation_0-auc:0.917562\tvalidation_1-auc:0.899349\n",
      "[688]\tvalidation_0-auc:0.917585\tvalidation_1-auc:0.899353\n",
      "[689]\tvalidation_0-auc:0.917617\tvalidation_1-auc:0.899375\n",
      "[690]\tvalidation_0-auc:0.917626\tvalidation_1-auc:0.899382\n",
      "[691]\tvalidation_0-auc:0.917691\tvalidation_1-auc:0.89942\n",
      "[692]\tvalidation_0-auc:0.917744\tvalidation_1-auc:0.899436\n",
      "[693]\tvalidation_0-auc:0.91776\tvalidation_1-auc:0.899452\n",
      "[694]\tvalidation_0-auc:0.917774\tvalidation_1-auc:0.899458\n",
      "[695]\tvalidation_0-auc:0.917782\tvalidation_1-auc:0.89946\n",
      "[696]\tvalidation_0-auc:0.917805\tvalidation_1-auc:0.899471\n",
      "[697]\tvalidation_0-auc:0.91783\tvalidation_1-auc:0.899488\n",
      "[698]\tvalidation_0-auc:0.917864\tvalidation_1-auc:0.899522\n",
      "[699]\tvalidation_0-auc:0.917915\tvalidation_1-auc:0.899571\n",
      "[700]\tvalidation_0-auc:0.917943\tvalidation_1-auc:0.899583\n",
      "[701]\tvalidation_0-auc:0.917985\tvalidation_1-auc:0.899617\n",
      "[702]\tvalidation_0-auc:0.91801\tvalidation_1-auc:0.89964\n",
      "[703]\tvalidation_0-auc:0.918039\tvalidation_1-auc:0.899657\n",
      "[704]\tvalidation_0-auc:0.918056\tvalidation_1-auc:0.899682\n",
      "[705]\tvalidation_0-auc:0.918071\tvalidation_1-auc:0.899684\n",
      "[706]\tvalidation_0-auc:0.918089\tvalidation_1-auc:0.899704\n"
     ]
    },
    {
     "name": "stdout",
     "output_type": "stream",
     "text": [
      "[707]\tvalidation_0-auc:0.918128\tvalidation_1-auc:0.899721\n",
      "[708]\tvalidation_0-auc:0.918141\tvalidation_1-auc:0.89973\n",
      "[709]\tvalidation_0-auc:0.918156\tvalidation_1-auc:0.899748\n",
      "[710]\tvalidation_0-auc:0.918176\tvalidation_1-auc:0.899749\n",
      "[711]\tvalidation_0-auc:0.918176\tvalidation_1-auc:0.899746\n",
      "[712]\tvalidation_0-auc:0.918213\tvalidation_1-auc:0.89976\n",
      "[713]\tvalidation_0-auc:0.918256\tvalidation_1-auc:0.899782\n",
      "[714]\tvalidation_0-auc:0.918275\tvalidation_1-auc:0.899804\n",
      "[715]\tvalidation_0-auc:0.918294\tvalidation_1-auc:0.899818\n",
      "[716]\tvalidation_0-auc:0.91831\tvalidation_1-auc:0.899837\n",
      "[717]\tvalidation_0-auc:0.918317\tvalidation_1-auc:0.899833\n",
      "[718]\tvalidation_0-auc:0.918354\tvalidation_1-auc:0.899854\n",
      "[719]\tvalidation_0-auc:0.918366\tvalidation_1-auc:0.899868\n",
      "[720]\tvalidation_0-auc:0.91838\tvalidation_1-auc:0.899883\n",
      "[721]\tvalidation_0-auc:0.918396\tvalidation_1-auc:0.899893\n",
      "[722]\tvalidation_0-auc:0.918402\tvalidation_1-auc:0.899892\n",
      "[723]\tvalidation_0-auc:0.918416\tvalidation_1-auc:0.899887\n",
      "[724]\tvalidation_0-auc:0.918461\tvalidation_1-auc:0.899911\n",
      "[725]\tvalidation_0-auc:0.91847\tvalidation_1-auc:0.899912\n",
      "[726]\tvalidation_0-auc:0.918511\tvalidation_1-auc:0.899935\n",
      "[727]\tvalidation_0-auc:0.918534\tvalidation_1-auc:0.899951\n",
      "[728]\tvalidation_0-auc:0.918555\tvalidation_1-auc:0.899964\n",
      "[729]\tvalidation_0-auc:0.918572\tvalidation_1-auc:0.899968\n",
      "[730]\tvalidation_0-auc:0.918599\tvalidation_1-auc:0.899992\n",
      "[731]\tvalidation_0-auc:0.918642\tvalidation_1-auc:0.900006\n",
      "[732]\tvalidation_0-auc:0.918676\tvalidation_1-auc:0.900042\n",
      "[733]\tvalidation_0-auc:0.918698\tvalidation_1-auc:0.900056\n",
      "[734]\tvalidation_0-auc:0.91873\tvalidation_1-auc:0.900076\n",
      "[735]\tvalidation_0-auc:0.918756\tvalidation_1-auc:0.900096\n",
      "[736]\tvalidation_0-auc:0.918777\tvalidation_1-auc:0.900096\n",
      "[737]\tvalidation_0-auc:0.918792\tvalidation_1-auc:0.90012\n",
      "[738]\tvalidation_0-auc:0.918816\tvalidation_1-auc:0.900125\n",
      "[739]\tvalidation_0-auc:0.918828\tvalidation_1-auc:0.900136\n",
      "[740]\tvalidation_0-auc:0.918848\tvalidation_1-auc:0.900141\n",
      "[741]\tvalidation_0-auc:0.918867\tvalidation_1-auc:0.900155\n",
      "[742]\tvalidation_0-auc:0.918856\tvalidation_1-auc:0.900151\n",
      "[743]\tvalidation_0-auc:0.918898\tvalidation_1-auc:0.900185\n",
      "[744]\tvalidation_0-auc:0.918924\tvalidation_1-auc:0.900203\n",
      "[745]\tvalidation_0-auc:0.918942\tvalidation_1-auc:0.900217\n",
      "[746]\tvalidation_0-auc:0.918988\tvalidation_1-auc:0.900247\n",
      "[747]\tvalidation_0-auc:0.919008\tvalidation_1-auc:0.900253\n",
      "[748]\tvalidation_0-auc:0.919021\tvalidation_1-auc:0.900264\n",
      "[749]\tvalidation_0-auc:0.919064\tvalidation_1-auc:0.900309\n",
      "[750]\tvalidation_0-auc:0.919102\tvalidation_1-auc:0.900333\n",
      "[751]\tvalidation_0-auc:0.919121\tvalidation_1-auc:0.900347\n",
      "[752]\tvalidation_0-auc:0.919173\tvalidation_1-auc:0.900383\n",
      "[753]\tvalidation_0-auc:0.919188\tvalidation_1-auc:0.900392\n",
      "[754]\tvalidation_0-auc:0.919187\tvalidation_1-auc:0.900389\n",
      "[755]\tvalidation_0-auc:0.919209\tvalidation_1-auc:0.900408\n",
      "[756]\tvalidation_0-auc:0.919232\tvalidation_1-auc:0.900433\n",
      "[757]\tvalidation_0-auc:0.91926\tvalidation_1-auc:0.900449\n",
      "[758]\tvalidation_0-auc:0.919299\tvalidation_1-auc:0.900469\n",
      "[759]\tvalidation_0-auc:0.919295\tvalidation_1-auc:0.900458\n",
      "[760]\tvalidation_0-auc:0.91933\tvalidation_1-auc:0.900485\n",
      "[761]\tvalidation_0-auc:0.919323\tvalidation_1-auc:0.900478\n",
      "[762]\tvalidation_0-auc:0.919339\tvalidation_1-auc:0.900484\n",
      "[763]\tvalidation_0-auc:0.919379\tvalidation_1-auc:0.900518\n",
      "[764]\tvalidation_0-auc:0.919408\tvalidation_1-auc:0.900535\n",
      "[765]\tvalidation_0-auc:0.919431\tvalidation_1-auc:0.900532\n",
      "[766]\tvalidation_0-auc:0.919436\tvalidation_1-auc:0.90053\n",
      "[767]\tvalidation_0-auc:0.919456\tvalidation_1-auc:0.900559\n",
      "[768]\tvalidation_0-auc:0.919495\tvalidation_1-auc:0.90059\n",
      "[769]\tvalidation_0-auc:0.919526\tvalidation_1-auc:0.900609\n",
      "[770]\tvalidation_0-auc:0.919546\tvalidation_1-auc:0.90063\n",
      "[771]\tvalidation_0-auc:0.919565\tvalidation_1-auc:0.900632\n",
      "[772]\tvalidation_0-auc:0.919597\tvalidation_1-auc:0.900663\n",
      "[773]\tvalidation_0-auc:0.919647\tvalidation_1-auc:0.900691\n",
      "[774]\tvalidation_0-auc:0.919649\tvalidation_1-auc:0.90069\n",
      "[775]\tvalidation_0-auc:0.919663\tvalidation_1-auc:0.900703\n",
      "[776]\tvalidation_0-auc:0.919686\tvalidation_1-auc:0.900728\n",
      "[777]\tvalidation_0-auc:0.919727\tvalidation_1-auc:0.900765\n",
      "[778]\tvalidation_0-auc:0.919745\tvalidation_1-auc:0.900773\n",
      "[779]\tvalidation_0-auc:0.919757\tvalidation_1-auc:0.900772\n",
      "[780]\tvalidation_0-auc:0.919794\tvalidation_1-auc:0.900805\n",
      "[781]\tvalidation_0-auc:0.919823\tvalidation_1-auc:0.900823\n",
      "[782]\tvalidation_0-auc:0.91982\tvalidation_1-auc:0.90083\n",
      "[783]\tvalidation_0-auc:0.919836\tvalidation_1-auc:0.900832\n",
      "[784]\tvalidation_0-auc:0.91985\tvalidation_1-auc:0.900843\n",
      "[785]\tvalidation_0-auc:0.919868\tvalidation_1-auc:0.900846\n",
      "[786]\tvalidation_0-auc:0.919883\tvalidation_1-auc:0.900849\n",
      "[787]\tvalidation_0-auc:0.919912\tvalidation_1-auc:0.900867\n",
      "[788]\tvalidation_0-auc:0.919935\tvalidation_1-auc:0.900879\n",
      "[789]\tvalidation_0-auc:0.919939\tvalidation_1-auc:0.900887\n",
      "[790]\tvalidation_0-auc:0.919953\tvalidation_1-auc:0.900904\n",
      "[791]\tvalidation_0-auc:0.919945\tvalidation_1-auc:0.900905\n",
      "[792]\tvalidation_0-auc:0.919966\tvalidation_1-auc:0.900924\n",
      "[793]\tvalidation_0-auc:0.919988\tvalidation_1-auc:0.90094\n",
      "[794]\tvalidation_0-auc:0.920028\tvalidation_1-auc:0.900958\n",
      "[795]\tvalidation_0-auc:0.920049\tvalidation_1-auc:0.900974\n",
      "[796]\tvalidation_0-auc:0.920057\tvalidation_1-auc:0.900966\n",
      "[797]\tvalidation_0-auc:0.920075\tvalidation_1-auc:0.900984\n",
      "[798]\tvalidation_0-auc:0.920103\tvalidation_1-auc:0.901\n",
      "[799]\tvalidation_0-auc:0.920106\tvalidation_1-auc:0.900993\n",
      "[800]\tvalidation_0-auc:0.920118\tvalidation_1-auc:0.901008\n",
      "[801]\tvalidation_0-auc:0.920144\tvalidation_1-auc:0.901016\n",
      "[802]\tvalidation_0-auc:0.920164\tvalidation_1-auc:0.901039\n",
      "[803]\tvalidation_0-auc:0.920177\tvalidation_1-auc:0.901046\n",
      "[804]\tvalidation_0-auc:0.920213\tvalidation_1-auc:0.90107\n",
      "[805]\tvalidation_0-auc:0.920235\tvalidation_1-auc:0.901066\n",
      "[806]\tvalidation_0-auc:0.920252\tvalidation_1-auc:0.901066\n",
      "[807]\tvalidation_0-auc:0.920256\tvalidation_1-auc:0.901072\n",
      "[808]\tvalidation_0-auc:0.920262\tvalidation_1-auc:0.901077\n",
      "[809]\tvalidation_0-auc:0.920276\tvalidation_1-auc:0.901089\n",
      "[810]\tvalidation_0-auc:0.920293\tvalidation_1-auc:0.90109\n",
      "[811]\tvalidation_0-auc:0.920308\tvalidation_1-auc:0.901102\n",
      "[812]\tvalidation_0-auc:0.920336\tvalidation_1-auc:0.901118\n",
      "[813]\tvalidation_0-auc:0.920354\tvalidation_1-auc:0.901125\n",
      "[814]\tvalidation_0-auc:0.920364\tvalidation_1-auc:0.901134\n",
      "[815]\tvalidation_0-auc:0.920381\tvalidation_1-auc:0.901146\n",
      "[816]\tvalidation_0-auc:0.920401\tvalidation_1-auc:0.901145\n",
      "[817]\tvalidation_0-auc:0.920407\tvalidation_1-auc:0.901144\n",
      "[818]\tvalidation_0-auc:0.920419\tvalidation_1-auc:0.901153\n",
      "[819]\tvalidation_0-auc:0.920437\tvalidation_1-auc:0.901169\n",
      "[820]\tvalidation_0-auc:0.920465\tvalidation_1-auc:0.901179\n",
      "[821]\tvalidation_0-auc:0.9205\tvalidation_1-auc:0.901195\n",
      "[822]\tvalidation_0-auc:0.920522\tvalidation_1-auc:0.901213\n",
      "[823]\tvalidation_0-auc:0.920546\tvalidation_1-auc:0.901236\n",
      "[824]\tvalidation_0-auc:0.920585\tvalidation_1-auc:0.901266\n",
      "[825]\tvalidation_0-auc:0.920587\tvalidation_1-auc:0.901271\n",
      "[826]\tvalidation_0-auc:0.920599\tvalidation_1-auc:0.901281\n",
      "[827]\tvalidation_0-auc:0.920603\tvalidation_1-auc:0.901281\n",
      "[828]\tvalidation_0-auc:0.920605\tvalidation_1-auc:0.901282\n",
      "[829]\tvalidation_0-auc:0.920609\tvalidation_1-auc:0.901291\n",
      "[830]\tvalidation_0-auc:0.920634\tvalidation_1-auc:0.901303\n",
      "[831]\tvalidation_0-auc:0.920656\tvalidation_1-auc:0.901308\n",
      "[832]\tvalidation_0-auc:0.920666\tvalidation_1-auc:0.901315\n",
      "[833]\tvalidation_0-auc:0.920687\tvalidation_1-auc:0.901336\n",
      "[834]\tvalidation_0-auc:0.920696\tvalidation_1-auc:0.901329\n",
      "[835]\tvalidation_0-auc:0.920712\tvalidation_1-auc:0.901344\n",
      "[836]\tvalidation_0-auc:0.920725\tvalidation_1-auc:0.90135\n",
      "[837]\tvalidation_0-auc:0.920736\tvalidation_1-auc:0.901364\n",
      "[838]\tvalidation_0-auc:0.92074\tvalidation_1-auc:0.90137\n",
      "[839]\tvalidation_0-auc:0.920744\tvalidation_1-auc:0.901379\n",
      "[840]\tvalidation_0-auc:0.920747\tvalidation_1-auc:0.901384\n",
      "[841]\tvalidation_0-auc:0.920768\tvalidation_1-auc:0.901384\n",
      "[842]\tvalidation_0-auc:0.920799\tvalidation_1-auc:0.901412\n",
      "[843]\tvalidation_0-auc:0.920809\tvalidation_1-auc:0.901416\n",
      "[844]\tvalidation_0-auc:0.920843\tvalidation_1-auc:0.901444\n",
      "[845]\tvalidation_0-auc:0.920858\tvalidation_1-auc:0.901459\n",
      "[846]\tvalidation_0-auc:0.920877\tvalidation_1-auc:0.901467\n",
      "[847]\tvalidation_0-auc:0.920907\tvalidation_1-auc:0.901481\n",
      "[848]\tvalidation_0-auc:0.920926\tvalidation_1-auc:0.901487\n"
     ]
    },
    {
     "name": "stdout",
     "output_type": "stream",
     "text": [
      "[849]\tvalidation_0-auc:0.920945\tvalidation_1-auc:0.901508\n",
      "[850]\tvalidation_0-auc:0.920978\tvalidation_1-auc:0.901519\n",
      "[851]\tvalidation_0-auc:0.921015\tvalidation_1-auc:0.901549\n",
      "[852]\tvalidation_0-auc:0.921025\tvalidation_1-auc:0.901559\n",
      "[853]\tvalidation_0-auc:0.921037\tvalidation_1-auc:0.901568\n",
      "[854]\tvalidation_0-auc:0.921041\tvalidation_1-auc:0.90157\n",
      "[855]\tvalidation_0-auc:0.921052\tvalidation_1-auc:0.901572\n",
      "[856]\tvalidation_0-auc:0.921083\tvalidation_1-auc:0.901592\n",
      "[857]\tvalidation_0-auc:0.921101\tvalidation_1-auc:0.901606\n",
      "[858]\tvalidation_0-auc:0.921118\tvalidation_1-auc:0.901615\n",
      "[859]\tvalidation_0-auc:0.92114\tvalidation_1-auc:0.901618\n",
      "[860]\tvalidation_0-auc:0.921158\tvalidation_1-auc:0.901625\n",
      "[861]\tvalidation_0-auc:0.92118\tvalidation_1-auc:0.901641\n",
      "[862]\tvalidation_0-auc:0.921205\tvalidation_1-auc:0.901658\n",
      "[863]\tvalidation_0-auc:0.921226\tvalidation_1-auc:0.901667\n",
      "[864]\tvalidation_0-auc:0.921215\tvalidation_1-auc:0.901657\n",
      "[865]\tvalidation_0-auc:0.921236\tvalidation_1-auc:0.901681\n",
      "[866]\tvalidation_0-auc:0.921246\tvalidation_1-auc:0.901695\n",
      "[867]\tvalidation_0-auc:0.921259\tvalidation_1-auc:0.901705\n",
      "[868]\tvalidation_0-auc:0.921277\tvalidation_1-auc:0.901724\n",
      "[869]\tvalidation_0-auc:0.921312\tvalidation_1-auc:0.901747\n",
      "[870]\tvalidation_0-auc:0.921328\tvalidation_1-auc:0.901756\n",
      "[871]\tvalidation_0-auc:0.92135\tvalidation_1-auc:0.901754\n",
      "[872]\tvalidation_0-auc:0.921366\tvalidation_1-auc:0.90177\n",
      "[873]\tvalidation_0-auc:0.921374\tvalidation_1-auc:0.901773\n",
      "[874]\tvalidation_0-auc:0.92138\tvalidation_1-auc:0.901771\n",
      "[875]\tvalidation_0-auc:0.9214\tvalidation_1-auc:0.901772\n",
      "[876]\tvalidation_0-auc:0.921426\tvalidation_1-auc:0.901781\n",
      "[877]\tvalidation_0-auc:0.921439\tvalidation_1-auc:0.901802\n",
      "[878]\tvalidation_0-auc:0.921455\tvalidation_1-auc:0.901814\n",
      "[879]\tvalidation_0-auc:0.92147\tvalidation_1-auc:0.901816\n",
      "[880]\tvalidation_0-auc:0.921478\tvalidation_1-auc:0.901816\n",
      "[881]\tvalidation_0-auc:0.921505\tvalidation_1-auc:0.90183\n",
      "[882]\tvalidation_0-auc:0.921517\tvalidation_1-auc:0.901845\n",
      "[883]\tvalidation_0-auc:0.921537\tvalidation_1-auc:0.901859\n",
      "[884]\tvalidation_0-auc:0.921551\tvalidation_1-auc:0.901869\n",
      "[885]\tvalidation_0-auc:0.921568\tvalidation_1-auc:0.901883\n",
      "[886]\tvalidation_0-auc:0.921579\tvalidation_1-auc:0.901891\n",
      "[887]\tvalidation_0-auc:0.921594\tvalidation_1-auc:0.90191\n",
      "[888]\tvalidation_0-auc:0.921627\tvalidation_1-auc:0.901938\n",
      "[889]\tvalidation_0-auc:0.921633\tvalidation_1-auc:0.901931\n",
      "[890]\tvalidation_0-auc:0.921646\tvalidation_1-auc:0.901925\n",
      "[891]\tvalidation_0-auc:0.921664\tvalidation_1-auc:0.901945\n",
      "[892]\tvalidation_0-auc:0.921684\tvalidation_1-auc:0.901946\n",
      "[893]\tvalidation_0-auc:0.921695\tvalidation_1-auc:0.901952\n",
      "[894]\tvalidation_0-auc:0.921738\tvalidation_1-auc:0.901983\n",
      "[895]\tvalidation_0-auc:0.92175\tvalidation_1-auc:0.902003\n",
      "[896]\tvalidation_0-auc:0.921772\tvalidation_1-auc:0.902016\n",
      "[897]\tvalidation_0-auc:0.921782\tvalidation_1-auc:0.902022\n",
      "[898]\tvalidation_0-auc:0.921792\tvalidation_1-auc:0.902027\n",
      "[899]\tvalidation_0-auc:0.921796\tvalidation_1-auc:0.90202\n",
      "[900]\tvalidation_0-auc:0.921805\tvalidation_1-auc:0.902022\n",
      "[901]\tvalidation_0-auc:0.921829\tvalidation_1-auc:0.90204\n",
      "[902]\tvalidation_0-auc:0.921855\tvalidation_1-auc:0.902055\n",
      "[903]\tvalidation_0-auc:0.921872\tvalidation_1-auc:0.902068\n",
      "[904]\tvalidation_0-auc:0.921881\tvalidation_1-auc:0.902076\n",
      "[905]\tvalidation_0-auc:0.921892\tvalidation_1-auc:0.902087\n",
      "[906]\tvalidation_0-auc:0.921912\tvalidation_1-auc:0.902099\n",
      "[907]\tvalidation_0-auc:0.921932\tvalidation_1-auc:0.902109\n",
      "[908]\tvalidation_0-auc:0.921954\tvalidation_1-auc:0.90213\n",
      "[909]\tvalidation_0-auc:0.921976\tvalidation_1-auc:0.902124\n",
      "[910]\tvalidation_0-auc:0.921987\tvalidation_1-auc:0.902122\n",
      "[911]\tvalidation_0-auc:0.922003\tvalidation_1-auc:0.902136\n",
      "[912]\tvalidation_0-auc:0.922018\tvalidation_1-auc:0.902151\n",
      "[913]\tvalidation_0-auc:0.922019\tvalidation_1-auc:0.902152\n",
      "[914]\tvalidation_0-auc:0.92205\tvalidation_1-auc:0.902175\n",
      "[915]\tvalidation_0-auc:0.922061\tvalidation_1-auc:0.902172\n",
      "[916]\tvalidation_0-auc:0.922074\tvalidation_1-auc:0.902181\n",
      "[917]\tvalidation_0-auc:0.922096\tvalidation_1-auc:0.902198\n",
      "[918]\tvalidation_0-auc:0.922115\tvalidation_1-auc:0.902217\n",
      "[919]\tvalidation_0-auc:0.922148\tvalidation_1-auc:0.902219\n",
      "[920]\tvalidation_0-auc:0.922161\tvalidation_1-auc:0.902224\n",
      "[921]\tvalidation_0-auc:0.922185\tvalidation_1-auc:0.902234\n",
      "[922]\tvalidation_0-auc:0.922194\tvalidation_1-auc:0.902241\n",
      "[923]\tvalidation_0-auc:0.922202\tvalidation_1-auc:0.902241\n",
      "[924]\tvalidation_0-auc:0.922216\tvalidation_1-auc:0.902247\n",
      "[925]\tvalidation_0-auc:0.922224\tvalidation_1-auc:0.902255\n",
      "[926]\tvalidation_0-auc:0.922233\tvalidation_1-auc:0.902257\n",
      "[927]\tvalidation_0-auc:0.922251\tvalidation_1-auc:0.902268\n",
      "[928]\tvalidation_0-auc:0.922269\tvalidation_1-auc:0.902284\n",
      "[929]\tvalidation_0-auc:0.9223\tvalidation_1-auc:0.902301\n",
      "[930]\tvalidation_0-auc:0.92232\tvalidation_1-auc:0.902302\n",
      "[931]\tvalidation_0-auc:0.922332\tvalidation_1-auc:0.902306\n",
      "[932]\tvalidation_0-auc:0.92235\tvalidation_1-auc:0.902315\n",
      "[933]\tvalidation_0-auc:0.922372\tvalidation_1-auc:0.902339\n",
      "[934]\tvalidation_0-auc:0.922387\tvalidation_1-auc:0.902334\n",
      "[935]\tvalidation_0-auc:0.922414\tvalidation_1-auc:0.902364\n",
      "[936]\tvalidation_0-auc:0.92243\tvalidation_1-auc:0.902392\n",
      "[937]\tvalidation_0-auc:0.922448\tvalidation_1-auc:0.902394\n",
      "[938]\tvalidation_0-auc:0.922469\tvalidation_1-auc:0.90239\n",
      "[939]\tvalidation_0-auc:0.922504\tvalidation_1-auc:0.902418\n",
      "[940]\tvalidation_0-auc:0.922527\tvalidation_1-auc:0.902418\n",
      "[941]\tvalidation_0-auc:0.922532\tvalidation_1-auc:0.902419\n",
      "[942]\tvalidation_0-auc:0.922559\tvalidation_1-auc:0.902435\n",
      "[943]\tvalidation_0-auc:0.922561\tvalidation_1-auc:0.902431\n",
      "[944]\tvalidation_0-auc:0.922567\tvalidation_1-auc:0.902427\n",
      "[945]\tvalidation_0-auc:0.92259\tvalidation_1-auc:0.902438\n",
      "[946]\tvalidation_0-auc:0.922603\tvalidation_1-auc:0.902445\n",
      "[947]\tvalidation_0-auc:0.922621\tvalidation_1-auc:0.902449\n",
      "[948]\tvalidation_0-auc:0.922623\tvalidation_1-auc:0.902448\n",
      "[949]\tvalidation_0-auc:0.922639\tvalidation_1-auc:0.902462\n",
      "[950]\tvalidation_0-auc:0.92265\tvalidation_1-auc:0.902479\n",
      "[951]\tvalidation_0-auc:0.92267\tvalidation_1-auc:0.902486\n",
      "[952]\tvalidation_0-auc:0.922689\tvalidation_1-auc:0.902499\n",
      "[953]\tvalidation_0-auc:0.922712\tvalidation_1-auc:0.902514\n",
      "[954]\tvalidation_0-auc:0.922716\tvalidation_1-auc:0.902519\n",
      "[955]\tvalidation_0-auc:0.922727\tvalidation_1-auc:0.902525\n",
      "[956]\tvalidation_0-auc:0.922744\tvalidation_1-auc:0.902535\n",
      "[957]\tvalidation_0-auc:0.922737\tvalidation_1-auc:0.902529\n",
      "[958]\tvalidation_0-auc:0.92276\tvalidation_1-auc:0.902548\n",
      "[959]\tvalidation_0-auc:0.922774\tvalidation_1-auc:0.902557\n",
      "[960]\tvalidation_0-auc:0.922796\tvalidation_1-auc:0.902571\n",
      "[961]\tvalidation_0-auc:0.922801\tvalidation_1-auc:0.902576\n",
      "[962]\tvalidation_0-auc:0.922816\tvalidation_1-auc:0.902583\n",
      "[963]\tvalidation_0-auc:0.922838\tvalidation_1-auc:0.902588\n",
      "[964]\tvalidation_0-auc:0.922845\tvalidation_1-auc:0.902587\n",
      "[965]\tvalidation_0-auc:0.922865\tvalidation_1-auc:0.902597\n",
      "[966]\tvalidation_0-auc:0.922869\tvalidation_1-auc:0.902605\n",
      "[967]\tvalidation_0-auc:0.922905\tvalidation_1-auc:0.902618\n",
      "[968]\tvalidation_0-auc:0.922916\tvalidation_1-auc:0.902631\n",
      "[969]\tvalidation_0-auc:0.922921\tvalidation_1-auc:0.902628\n",
      "[970]\tvalidation_0-auc:0.922935\tvalidation_1-auc:0.902636\n",
      "[971]\tvalidation_0-auc:0.922955\tvalidation_1-auc:0.902658\n",
      "[972]\tvalidation_0-auc:0.922964\tvalidation_1-auc:0.90267\n",
      "[973]\tvalidation_0-auc:0.922997\tvalidation_1-auc:0.902691\n",
      "[974]\tvalidation_0-auc:0.92301\tvalidation_1-auc:0.902703\n",
      "[975]\tvalidation_0-auc:0.923037\tvalidation_1-auc:0.902716\n",
      "[976]\tvalidation_0-auc:0.923073\tvalidation_1-auc:0.902734\n",
      "[977]\tvalidation_0-auc:0.923082\tvalidation_1-auc:0.902737\n",
      "[978]\tvalidation_0-auc:0.923105\tvalidation_1-auc:0.902757\n",
      "[979]\tvalidation_0-auc:0.923154\tvalidation_1-auc:0.902772\n",
      "[980]\tvalidation_0-auc:0.923185\tvalidation_1-auc:0.902784\n",
      "[981]\tvalidation_0-auc:0.923198\tvalidation_1-auc:0.902793\n",
      "[982]\tvalidation_0-auc:0.923223\tvalidation_1-auc:0.902799\n",
      "[983]\tvalidation_0-auc:0.923233\tvalidation_1-auc:0.902804\n",
      "[984]\tvalidation_0-auc:0.923252\tvalidation_1-auc:0.90281\n",
      "[985]\tvalidation_0-auc:0.923275\tvalidation_1-auc:0.902828\n",
      "[986]\tvalidation_0-auc:0.923287\tvalidation_1-auc:0.902838\n",
      "[987]\tvalidation_0-auc:0.923306\tvalidation_1-auc:0.902849\n",
      "[988]\tvalidation_0-auc:0.923313\tvalidation_1-auc:0.902852\n",
      "[989]\tvalidation_0-auc:0.923311\tvalidation_1-auc:0.902848\n",
      "[990]\tvalidation_0-auc:0.923327\tvalidation_1-auc:0.902865\n"
     ]
    },
    {
     "name": "stdout",
     "output_type": "stream",
     "text": [
      "[991]\tvalidation_0-auc:0.923332\tvalidation_1-auc:0.90287\n",
      "[992]\tvalidation_0-auc:0.923337\tvalidation_1-auc:0.902876\n",
      "[993]\tvalidation_0-auc:0.923344\tvalidation_1-auc:0.902879\n",
      "[994]\tvalidation_0-auc:0.923352\tvalidation_1-auc:0.902889\n",
      "[995]\tvalidation_0-auc:0.923358\tvalidation_1-auc:0.902892\n",
      "[996]\tvalidation_0-auc:0.923362\tvalidation_1-auc:0.902888\n",
      "[997]\tvalidation_0-auc:0.923375\tvalidation_1-auc:0.902902\n",
      "[998]\tvalidation_0-auc:0.923388\tvalidation_1-auc:0.902905\n",
      "[999]\tvalidation_0-auc:0.923421\tvalidation_1-auc:0.902917\n"
     ]
    },
    {
     "data": {
      "text/plain": [
       "1586.202053785324"
      ]
     },
     "execution_count": 33,
     "metadata": {},
     "output_type": "execute_result"
    }
   ],
   "source": [
    "ts = time.time()\n",
    "\n",
    "model = XGBRegressor(\n",
    "    max_depth=8,\n",
    "    n_estimators=1000,\n",
    "    min_child_weight=300, \n",
    "    colsample_bytree=0.8, \n",
    "    subsample=0.8, \n",
    "    eta=0.3,    \n",
    "    seed=42)\n",
    "\n",
    "model.fit(\n",
    "    X_train, \n",
    "    Y_train, \n",
    "    eval_metric=\"auc\", \n",
    "    eval_set=[(X_train, Y_train), (X_valid, Y_valid)], \n",
    "    verbose=True, \n",
    "    early_stopping_rounds = 10)\n",
    "\n",
    "time.time() - ts"
   ]
  },
  {
   "cell_type": "code",
   "execution_count": 34,
   "metadata": {
    "collapsed": true
   },
   "outputs": [],
   "source": [
    "Y_preds=model.predict(X_valid)"
   ]
  },
  {
   "cell_type": "markdown",
   "metadata": {},
   "source": [
    "# FEATURE IMPORTANCE"
   ]
  },
  {
   "cell_type": "code",
   "execution_count": 35,
   "metadata": {},
   "outputs": [
    {
     "data": {
      "text/plain": [
       "<matplotlib.axes._subplots.AxesSubplot at 0x2489b20cfd0>"
      ]
     },
     "execution_count": 35,
     "metadata": {},
     "output_type": "execute_result"
    },
    {
     "data": {
      "image/png": "[encoded data removed]",
      "text/plain": [
       "<Figure size 1152x648 with 1 Axes>"
      ]
     },
     "metadata": {},
     "output_type": "display_data"
    }
   ],
   "source": [
    "plot_features(model,(16,9))"
   ]
  },
  {
   "cell_type": "code",
   "execution_count": null,
   "metadata": {
    "collapsed": true
   },
   "outputs": [],
   "source": []
  }
 ],
 "metadata": {
  "kernelspec": {
   "display_name": "Python 3",
   "language": "python",
   "name": "python3"
  },
  "language_info": {
   "codemirror_mode": {
    "name": "ipython",
    "version": 3
   },
   "file_extension": ".py",
   "mimetype": "text/x-python",
   "name": "python",
   "nbconvert_exporter": "python",
   "pygments_lexer": "ipython3",
   "version": "3.6.3"
  }
 },
 "nbformat": 4,
 "nbformat_minor": 2
}
